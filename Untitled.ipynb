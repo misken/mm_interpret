{
 "cells": [
  {
   "cell_type": "code",
   "execution_count": 1,
   "id": "6212528f-dc9a-4e4b-b287-d3791e0958d0",
   "metadata": {},
   "outputs": [],
   "source": [
    "import numpy as np\n",
    "import pandas as pd\n",
    "import matplotlib as mpl\n",
    "import matplotlib.pyplot as plt\n",
    "import seaborn as sns\n",
    "import math\n",
    "from pathlib import Path\n",
    "import pickle"
   ]
  },
  {
   "cell_type": "code",
   "execution_count": null,
   "id": "a9935269-4a95-46b7-96ce-1891641fcee4",
   "metadata": {},
   "outputs": [],
   "source": []
  },
  {
   "cell_type": "code",
   "execution_count": null,
   "id": "9a8a30cf-3139-4ea9-82f0-36399f513a4d",
   "metadata": {},
   "outputs": [],
   "source": []
  },
  {
   "cell_type": "code",
   "execution_count": null,
   "id": "faf18ab8-9d63-4098-b871-b8c63b4d5d27",
   "metadata": {},
   "outputs": [],
   "source": []
  },
  {
   "cell_type": "code",
   "execution_count": null,
   "id": "c872cf68-54cf-44fc-b759-dfe35e99caff",
   "metadata": {},
   "outputs": [],
   "source": []
  },
  {
   "cell_type": "code",
   "execution_count": 2,
   "id": "bfeff7ac-95dd-4974-92d6-02597dd51e91",
   "metadata": {},
   "outputs": [],
   "source": [
    "exp13_pkl_path = '/home/mark/Documents/projects/obflowsim/src/obflowsim/mm/output/exp13'"
   ]
  },
  {
   "cell_type": "code",
   "execution_count": 3,
   "id": "54e9ba31-0dd9-4dde-80d9-919d48afd15b",
   "metadata": {},
   "outputs": [],
   "source": [
    "obs_pkl_filename =  \"exp13_obs_results.pkl\"\n",
    "ldr_pkl_filename =  \"exp13_ldr_results.pkl\"\n",
    "pp_pkl_filename =  \"exp13_pp_results.pkl\"\n",
    "\n",
    "obs_pkl_path = Path(exp13_pkl_path, obs_pkl_filename)\n",
    "ldr_pkl_path = Path(exp13_pkl_path, ldr_pkl_filename)\n",
    "pp_pkl_path = Path(exp13_pkl_path, pp_pkl_filename)"
   ]
  },
  {
   "cell_type": "code",
   "execution_count": 4,
   "id": "626b11ce-e95b-43b2-bc9c-eb1a54589d8f",
   "metadata": {},
   "outputs": [
    {
     "ename": "ModuleNotFoundError",
     "evalue": "No module named 'obflowsim'",
     "output_type": "error",
     "traceback": [
      "\u001b[0;31m---------------------------------------------------------------------------\u001b[0m",
      "\u001b[0;31mModuleNotFoundError\u001b[0m                       Traceback (most recent call last)",
      "\u001b[0;32m/tmp/ipykernel_141305/3894699500.py\u001b[0m in \u001b[0;36m<module>\u001b[0;34m\u001b[0m\n\u001b[1;32m      1\u001b[0m \u001b[0;32mwith\u001b[0m \u001b[0mopen\u001b[0m\u001b[0;34m(\u001b[0m\u001b[0mpp_pkl_path\u001b[0m\u001b[0;34m,\u001b[0m \u001b[0;34m'rb'\u001b[0m\u001b[0;34m)\u001b[0m \u001b[0;32mas\u001b[0m \u001b[0mpickle_file\u001b[0m\u001b[0;34m:\u001b[0m\u001b[0;34m\u001b[0m\u001b[0;34m\u001b[0m\u001b[0m\n\u001b[0;32m----> 2\u001b[0;31m     \u001b[0mpp_results\u001b[0m \u001b[0;34m=\u001b[0m \u001b[0mpickle\u001b[0m\u001b[0;34m.\u001b[0m\u001b[0mload\u001b[0m\u001b[0;34m(\u001b[0m\u001b[0mpickle_file\u001b[0m\u001b[0;34m)\u001b[0m\u001b[0;34m\u001b[0m\u001b[0;34m\u001b[0m\u001b[0m\n\u001b[0m\u001b[1;32m      3\u001b[0m \u001b[0;34m\u001b[0m\u001b[0m\n\u001b[1;32m      4\u001b[0m \u001b[0;32mwith\u001b[0m \u001b[0mopen\u001b[0m\u001b[0;34m(\u001b[0m\u001b[0mobs_pkl_path\u001b[0m\u001b[0;34m,\u001b[0m \u001b[0;34m'rb'\u001b[0m\u001b[0;34m)\u001b[0m \u001b[0;32mas\u001b[0m \u001b[0mpickle_file\u001b[0m\u001b[0;34m:\u001b[0m\u001b[0;34m\u001b[0m\u001b[0;34m\u001b[0m\u001b[0m\n\u001b[1;32m      5\u001b[0m     \u001b[0mobs_results\u001b[0m \u001b[0;34m=\u001b[0m \u001b[0mpickle\u001b[0m\u001b[0;34m.\u001b[0m\u001b[0mload\u001b[0m\u001b[0;34m(\u001b[0m\u001b[0mpickle_file\u001b[0m\u001b[0;34m)\u001b[0m\u001b[0;34m\u001b[0m\u001b[0;34m\u001b[0m\u001b[0m\n",
      "\u001b[0;31mModuleNotFoundError\u001b[0m: No module named 'obflowsim'"
     ]
    }
   ],
   "source": [
    "with open(pp_pkl_path, 'rb') as pickle_file:\n",
    "    pp_results = pickle.load(pickle_file)\n",
    "    \n",
    "with open(obs_pkl_path, 'rb') as pickle_file:\n",
    "    obs_results = pickle.load(pickle_file)\n",
    "    \n",
    "with open(ldr_pkl_path, 'rb') as pickle_file:\n",
    "    ldr_results = pickle.load(pickle_file)"
   ]
  },
  {
   "cell_type": "code",
   "execution_count": null,
   "id": "ab1c1184-e425-4f9d-965e-9d9342347743",
   "metadata": {},
   "outputs": [],
   "source": []
  }
 ],
 "metadata": {
  "kernelspec": {
   "display_name": "Python [conda env:analytics]",
   "language": "python",
   "name": "conda-env-analytics-py"
  },
  "language_info": {
   "codemirror_mode": {
    "name": "ipython",
    "version": 3
   },
   "file_extension": ".py",
   "mimetype": "text/x-python",
   "name": "python",
   "nbconvert_exporter": "python",
   "pygments_lexer": "ipython3",
   "version": "3.9.7"
  }
 },
 "nbformat": 4,
 "nbformat_minor": 5
}
