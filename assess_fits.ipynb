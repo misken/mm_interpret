{
 "cells": [
  {
   "cell_type": "code",
   "execution_count": null,
   "id": "2eb38fa9-4cd6-47a9-87b4-0e0ce343d0e1",
   "metadata": {},
   "outputs": [],
   "source": []
  },
  {
   "cell_type": "code",
   "execution_count": 2,
   "id": "2139c57d-b017-499a-80aa-af3cd2b7f085",
   "metadata": {},
   "outputs": [],
   "source": [
    "%load_ext autoreload\n",
    "%autoreload 2"
   ]
  },
  {
   "cell_type": "code",
   "execution_count": 3,
   "id": "f3666970-a11d-4eea-95bf-4ae3733ea5d0",
   "metadata": {},
   "outputs": [],
   "source": [
    "import numpy as np\n",
    "import pandas as pd\n",
    "import matplotlib.pyplot as plt\n",
    "import seaborn as sns\n",
    "import math\n",
    "from pathlib import Path\n",
    "import pickle\n",
    "import itertools\n",
    "from IPython.display import Image"
   ]
  },
  {
   "cell_type": "code",
   "execution_count": 4,
   "id": "7e3b15cb-5ffc-44e0-865d-befde1424624",
   "metadata": {},
   "outputs": [],
   "source": [
    "from mmfitting import crossval_summarize_mm"
   ]
  },
  {
   "cell_type": "code",
   "execution_count": 5,
   "id": "edb20846-0e68-4f80-ae68-5e9be3058088",
   "metadata": {},
   "outputs": [],
   "source": [
    "%matplotlib inline"
   ]
  },
  {
   "cell_type": "markdown",
   "id": "833d6f6b-d331-470b-b06b-08b5dfe3bf67",
   "metadata": {},
   "source": [
    "# Prelude to assessing fits\n",
    "\n",
    "Before assessing model fits, it is assumed that the following has already occured:\n",
    "\n",
    "* simulation scenarios file has been created and uses same column names as `exp10_obflow06_metainputs.csv`\n",
    "* `obsimpy.create_configs.py` run using scenarios file to create yaml config files for simulation runs. In addition to the\n",
    "YAML config files, a bash script is created with the python commands for running the simulation model for each scenario.\n",
    "* obflow_06 simulation runs have been completed and occ and stop log files and occ stat files are created\n",
    "* `obsimpy.obflow_06_output.py` has been run to process the logs and create the main summary files:\n",
    "    - `scenario_rep_simout_{suffix}.csv` - sim outputs by scenario by rep (NO inputs)\n",
    "    - `scenario_rep_siminout_{suffix}.csv` - sim inputs and outputs by scenario by rep\n",
    "    - `scenario_simout_{suffix}.csv` - sim outputs by scenario (NO inputs)\n",
    "    \n",
    "Then we need to run `dataprep.py` from the `mm_interpret` project. It has a simple CLI or you can override and run directly. It will:\n",
    "\n",
    "* Create `scenario_siminout_qng_{suffix}.csv` - sim inputs, outputs and queueing approximations by scenario\n",
    "* Create all the X and y csv files for model fitting.\n",
    "\n",
    "Now we are ready for model fitting using the `mm_interpret` project. The following scripts do **NOT** have CLI's implemented. Instead we have to set some variable values manually:\n",
    "\n",
    "    experiment = \"exp11\"\n",
    "    data_path = Path(\"data\")\n",
    "    output_path = Path(\"output\")\n",
    "    figures_path = Path(\"output\", \"figures\")\n",
    "    raw_data_path = Path(\"data\", \"raw\")\n",
    "    pickle_filename = f\"ldr_results_{experiment}.pkl\"\n",
    "\n",
    "* `run_mm_fits_ldr.py` --> `ldr_results_exp11.pkl`\n",
    "* `run_mm_fits_pp.py` --> `pp_results_exp11.pkl`\n",
    "* `run_mm_fits_obs.py` --> `obs_results_exp11.pkl`\n",
    "\n",
    "\n",
    "The pickle files contain the fitting model objects. Now we can use those model objects to create actual vs predicted plot for each model. Use `process_fitted_models.py`."
   ]
  },
  {
   "cell_type": "markdown",
   "id": "de3b4620-8b9a-416a-a466-e0f749950853",
   "metadata": {},
   "source": [
    "> **IMPORTANT NOTE** Exp11 was rerun without the infinite capacity scenarios as they represent values of rho which are far outside the range of values used in the finite capacity scenarios (~.5 to ~.8). After debugging the exp11 results to make sure everything being computed correctly, perhaps we should run an experiment with a wider and more uniform range of rho values. Specify rho instead of using overflow target approximations."
   ]
  },
  {
   "cell_type": "code",
   "execution_count": null,
   "id": "45e5bb64-f2aa-4c73-a8ed-0ab20c76e642",
   "metadata": {},
   "outputs": [],
   "source": [
    "output_path = \"output\"\n",
    "\n",
    "obs_pkl_filename =  \"obs_results_exp11.pkl\"\n",
    "ldr_pkl_filename =  \"ldr_results_exp11.pkl\"\n",
    "pp_pkl_filename =  \"pp_results_exp11.pkl\"\n",
    "\n",
    "obs_pkl_path = Path(output_path, obs_pkl_filename)\n",
    "ldr_pkl_path = Path(output_path, ldr_pkl_filename)\n",
    "pp_pkl_path = Path(output_path, pp_pkl_filename)"
   ]
  },
  {
   "cell_type": "markdown",
   "id": "8abb237f-9b0b-480a-a416-823cf3029e58",
   "metadata": {},
   "source": [
    "## PP results\n",
    "Starting here since no downstream units to block patients are not LOS adjustments due to blocking."
   ]
  },
  {
   "cell_type": "code",
   "execution_count": null,
   "id": "1e2e40c0-612f-47d4-80d8-071e3bc92dab",
   "metadata": {},
   "outputs": [],
   "source": [
    "with open(pp_pkl_path, 'rb') as pickle_file:\n",
    "    pp_results = pickle.load(pickle_file)"
   ]
  },
  {
   "cell_type": "code",
   "execution_count": null,
   "id": "dd831089-71e2-4aef-bb53-d829c879f6d9",
   "metadata": {},
   "outputs": [],
   "source": [
    "pp_results.keys()"
   ]
  },
  {
   "cell_type": "markdown",
   "id": "c6bdd4c5-40ed-4eb1-b172-fabe2aa50230",
   "metadata": {},
   "source": [
    "### PP mean occupancy"
   ]
  },
  {
   "cell_type": "markdown",
   "id": "f20a16d7-e243-4bfb-9101-8716df04798d",
   "metadata": {},
   "source": [
    "#### lm and lassocv\n",
    "\n",
    "Let's start here as they are simplest."
   ]
  },
  {
   "cell_type": "code",
   "execution_count": null,
   "id": "a2a2db01-659c-494a-a804-6fe27ec1d0f2",
   "metadata": {},
   "outputs": [],
   "source": [
    "figures_path = Path(\"output\", \"figures\", \"exp11\", \"exp11_pp_pp_occ_mean_noq_lm_cv_scatter.png\")\n",
    "Image(filename=figures_path) "
   ]
  },
  {
   "cell_type": "markdown",
   "id": "410cb066-f712-4338-9cf3-eafb54308911",
   "metadata": {},
   "source": [
    "Linear model with noq does pretty well. What if we add the basicq fields? The queueing fields definitely help."
   ]
  },
  {
   "cell_type": "code",
   "execution_count": null,
   "id": "73945be6-a27e-4b53-9f7d-6953f27791b0",
   "metadata": {},
   "outputs": [],
   "source": [
    "figures_path = Path(\"output\", \"figures\", \"exp11\", \"exp11_pp_pp_occ_mean_basicq_lm_cv_scatter.png\")\n",
    "Image(filename=figures_path) "
   ]
  },
  {
   "cell_type": "markdown",
   "id": "1823739e-a87c-47ef-ba87-bfa091f63de4",
   "metadata": {},
   "source": [
    "What do the coefficients look like?\n",
    "\n",
    "Look pretty stable though some things don't make physics sense such as negative coeffs on `mean_los_pp` and `c_sect_prob`. Let's see if the lasso models can help with this issue."
   ]
  },
  {
   "cell_type": "code",
   "execution_count": null,
   "id": "661f74bf-2c15-4748-b9f1-c0141f17693a",
   "metadata": {},
   "outputs": [],
   "source": [
    "figures_path = Path(\"output\", \"figures\", \"exp11\", \"exp11_pp_pp_occ_mean_basicq_lm_cv_coeff.png\")\n",
    "Image(filename=figures_path) "
   ]
  },
  {
   "cell_type": "code",
   "execution_count": null,
   "id": "a746b7ad-6829-4688-b3ef-6b6898b9bc9d",
   "metadata": {},
   "outputs": [],
   "source": [
    "figures_path = Path(\"output\", \"figures\", \"exp11\", \"exp11_pp_pp_occ_mean_basicq_lassocv_cv_scatter.png\")\n",
    "Image(filename=figures_path) "
   ]
  },
  {
   "cell_type": "markdown",
   "id": "3c2a7e47-3115-467a-b7d7-3e46ec44fea6",
   "metadata": {},
   "source": [
    "Fit seems intermediate between noq and basicq."
   ]
  },
  {
   "cell_type": "code",
   "execution_count": null,
   "id": "cd3f85dc-0c7c-4979-ab57-95981e82b610",
   "metadata": {},
   "outputs": [],
   "source": [
    "figures_path = Path(\"output\", \"figures\", \"exp11\", \"exp11_pp_pp_occ_mean_basicq_lassocv_cv_coeff.png\")\n",
    "Image(filename=figures_path) "
   ]
  },
  {
   "cell_type": "markdown",
   "id": "85b69de0-f720-4918-a164-ed98ace467ed",
   "metadata": {},
   "source": [
    "Driving the `sqrt_load_pp` term to 0 makes sense since mean occ should not depend on this. This has the desirable effect of all of the other coefficients having signs that make sense."
   ]
  },
  {
   "cell_type": "markdown",
   "id": "59ca65e1-1185-430e-b616-f07c323edf24",
   "metadata": {},
   "source": [
    "#### poly\n",
    "\n",
    "Widely used, so let's see how it did."
   ]
  },
  {
   "cell_type": "code",
   "execution_count": null,
   "id": "ae0ecaea-2034-414d-970f-45e8fd9c5c7c",
   "metadata": {},
   "outputs": [],
   "source": [
    "figures_path = Path(\"output\", \"figures\", \"exp11\", \"exp11_pp_pp_occ_mean_noq_poly_cv_scatter.png\")\n",
    "Image(filename=figures_path) "
   ]
  },
  {
   "cell_type": "markdown",
   "id": "73bcd551-1040-47fe-8491-c5b27994d72b",
   "metadata": {},
   "source": [
    "The poly model fits very well even with no qng terms."
   ]
  },
  {
   "cell_type": "code",
   "execution_count": null,
   "id": "02fa679e-be20-40a3-922e-066accfda491",
   "metadata": {},
   "outputs": [],
   "source": [
    "figures_path = Path(\"output\", \"figures\", \"exp11\", \"exp11_pp_pp_occ_mean_basicq_lm_cv_scatter.png\")\n",
    "Image(filename=figures_path) "
   ]
  },
  {
   "cell_type": "markdown",
   "id": "47b8c8c9-e929-4b22-bbc9-acdd1eb60d7d",
   "metadata": {},
   "source": [
    "What about the coeffs?"
   ]
  },
  {
   "cell_type": "code",
   "execution_count": null,
   "id": "7cc903df-da54-4300-a2cc-8abaf78826b2",
   "metadata": {},
   "outputs": [],
   "source": [
    "figures_path = Path(\"output\", \"figures\", \"exp11\", \"exp11_pp_pp_occ_mean_basicq_poly_cv_coeff.png\")\n",
    "Image(filename=figures_path) "
   ]
  },
  {
   "cell_type": "markdown",
   "id": "d0617afe-46d3-4b46-9361-493002f806a0",
   "metadata": {},
   "source": [
    "Many variables. Some troubling sign swapping and overall coeff instability. Let's check for the noq version - at least there will be less variables."
   ]
  },
  {
   "cell_type": "code",
   "execution_count": null,
   "id": "ee74107a-e3d7-4f4c-9bfd-5324ab8c957a",
   "metadata": {},
   "outputs": [],
   "source": [
    "figures_path = Path(\"output\", \"figures\", \"exp11\", \"exp11_pp_pp_occ_mean_noq_poly_cv_coeff.png\")\n",
    "Image(filename=figures_path) "
   ]
  },
  {
   "cell_type": "markdown",
   "id": "008a19fe-3e6e-4775-b332-8fdc5416f01d",
   "metadata": {},
   "source": [
    "Less sign swapping and more stable. Seems like many negative coefficients to offset the positive ones. Hard to explain."
   ]
  },
  {
   "cell_type": "markdown",
   "id": "0ea0ce9c-b3db-4c6e-be35-fecde1984963",
   "metadata": {},
   "source": [
    "#### The ML models - rf, nn, svr"
   ]
  },
  {
   "cell_type": "code",
   "execution_count": null,
   "id": "5f4f42fe-ad6e-4f55-9327-fafc25dcb956",
   "metadata": {},
   "outputs": [],
   "source": [
    "figures_path = Path(\"output\", \"figures\", \"exp11\", \"exp11_pp_pp_occ_mean_noq_rf_cv_scatter.png\")\n",
    "Image(filename=figures_path) "
   ]
  },
  {
   "cell_type": "markdown",
   "id": "7d6b41de-3519-467d-beba-e654ee0b9d21",
   "metadata": {},
   "source": [
    "Not as good as the linear models, especially at upper end of occupancy levels.\n",
    "\n",
    "Do qnq terms help? Yes, they appear to help a bit."
   ]
  },
  {
   "cell_type": "code",
   "execution_count": null,
   "id": "715667fa-eb90-4603-b242-777da8434f8f",
   "metadata": {},
   "outputs": [],
   "source": [
    "figures_path = Path(\"output\", \"figures\", \"exp11\", \"exp11_pp_pp_occ_mean_basicq_rf_cv_scatter.png\")\n",
    "Image(filename=figures_path) "
   ]
  },
  {
   "cell_type": "markdown",
   "id": "682acb08-8850-44f9-b9db-2f55e5b0c13b",
   "metadata": {},
   "source": [
    "Now for the neural nets. Overall, they perform poorly and if the qng terms help, it's not much."
   ]
  },
  {
   "cell_type": "code",
   "execution_count": null,
   "id": "3da6c035-8520-4344-bfcf-578eedc15cf4",
   "metadata": {},
   "outputs": [],
   "source": [
    "figures_path = Path(\"output\", \"figures\", \"exp11\", \"exp11_pp_pp_occ_mean_noq_nn_cv_scatter.png\")\n",
    "Image(filename=figures_path) "
   ]
  },
  {
   "cell_type": "code",
   "execution_count": null,
   "id": "046f647c-5188-47c5-be68-f12e2fcd843c",
   "metadata": {},
   "outputs": [],
   "source": [
    "figures_path = Path(\"output\", \"figures\", \"exp11\", \"exp11_pp_pp_occ_mean_basicq_nn_cv_scatter.png\")\n",
    "Image(filename=figures_path) "
   ]
  },
  {
   "cell_type": "markdown",
   "id": "7cf5e4ba-9a93-4bce-ab46-cf555bdf6888",
   "metadata": {},
   "source": [
    "Finally, let's look at the svrs. Overall, they perform poorly and if the qng terms help, it's not much."
   ]
  },
  {
   "cell_type": "code",
   "execution_count": null,
   "id": "46d2517e-622a-4a73-8f6d-a61fcd7c5dec",
   "metadata": {},
   "outputs": [],
   "source": [
    "figures_path = Path(\"output\", \"figures\", \"exp11\", \"exp11_pp_pp_occ_mean_noq_svr_cv_scatter.png\")\n",
    "Image(filename=figures_path) "
   ]
  },
  {
   "cell_type": "code",
   "execution_count": null,
   "id": "2b8c0a7f-ea81-456e-8a99-2457e3302e62",
   "metadata": {},
   "outputs": [],
   "source": [
    "figures_path = Path(\"output\", \"figures\", \"exp11\", \"exp11_pp_pp_occ_mean_basicq_svr_cv_scatter.png\")\n",
    "Image(filename=figures_path) "
   ]
  },
  {
   "cell_type": "markdown",
   "id": "9c8dc04e-3252-4590-b305-4a656cd6cbba",
   "metadata": {},
   "source": [
    "#### load\n",
    "This uses the offered load as the estimate for mean occupancy. There is **no** model \"fitting\". It should perform well as it's really just Little's Law."
   ]
  },
  {
   "cell_type": "code",
   "execution_count": null,
   "id": "7461bc9c-8a74-4ddb-be2c-59632b31d2e2",
   "metadata": {},
   "outputs": [],
   "source": [
    "figures_path = Path(\"output\", \"figures\", \"exp11\", \"exp11_pp_pp_occ_mean_basicq_load_cv_scatter.png\")\n",
    "Image(filename=figures_path) "
   ]
  },
  {
   "cell_type": "code",
   "execution_count": null,
   "id": "d5145b25-cf2c-4e2d-b0a4-eb94499e48be",
   "metadata": {},
   "outputs": [],
   "source": []
  },
  {
   "cell_type": "markdown",
   "id": "5b811d62-6a9f-408e-bdd7-0d36589899e3",
   "metadata": {},
   "source": [
    "### PP 95%ile occupancy"
   ]
  },
  {
   "cell_type": "markdown",
   "id": "7f079682-22ed-4b83-a035-9a8c1e449ca9",
   "metadata": {},
   "source": [
    "#### lm and lassocv\n",
    "\n",
    "Let's start here as they are simplest."
   ]
  },
  {
   "cell_type": "code",
   "execution_count": null,
   "id": "62b80cb2-ea18-4b50-9115-7091dad8012f",
   "metadata": {},
   "outputs": [],
   "source": [
    "figures_path = Path(\"output\", \"figures\", \"exp11\", \"exp11_pp_pp_occ_p95_noq_lm_cv_scatter.png\")\n",
    "Image(filename=figures_path) "
   ]
  },
  {
   "cell_type": "code",
   "execution_count": null,
   "id": "1b5372ec-13ef-431d-ac49-a740ddaea993",
   "metadata": {},
   "outputs": [],
   "source": [
    "figures_path = Path(\"output\", \"figures\", \"exp11\", \"exp11_pp_pp_occ_p95_basicq_lm_cv_scatter.png\")\n",
    "Image(filename=figures_path) "
   ]
  },
  {
   "cell_type": "markdown",
   "id": "f4c1e709-dc8b-41aa-ae21-7d0655db54ec",
   "metadata": {},
   "source": [
    "All fits are pretty good but queueing terms help a bit."
   ]
  },
  {
   "cell_type": "markdown",
   "id": "a4b335d5-72b7-4c9a-8fe8-fc8a44d3d8f1",
   "metadata": {},
   "source": [
    "What do the coefficients look like?\n",
    "\n",
    "Look pretty stable though some things don't make physics sense such as negative coeffs on `rho_pp` Let's see if the lasso models can help with this issue."
   ]
  },
  {
   "cell_type": "code",
   "execution_count": null,
   "id": "e0efc196-e164-450b-9727-68caa13ca2a9",
   "metadata": {},
   "outputs": [],
   "source": [
    "figures_path = Path(\"output\", \"figures\", \"exp11\", \"exp11_pp_pp_occ_p95_basicq_lm_cv_coeff.png\")\n",
    "Image(filename=figures_path) "
   ]
  },
  {
   "cell_type": "code",
   "execution_count": null,
   "id": "5d593d55-0cc3-4f47-abca-8cf55e463e0b",
   "metadata": {},
   "outputs": [],
   "source": [
    "figures_path = Path(\"output\", \"figures\", \"exp11\", \"exp11_pp_pp_occ_p95_basicq_lassocv_cv_scatter.png\")\n",
    "Image(filename=figures_path) "
   ]
  },
  {
   "cell_type": "markdown",
   "id": "2daa81d7-2fc8-4837-89ae-7778febed0ef",
   "metadata": {},
   "source": [
    "Fit seems intermediate between noq and basicq."
   ]
  },
  {
   "cell_type": "code",
   "execution_count": null,
   "id": "ae776d6b-d0e5-4a7b-bc73-2d917ebe33c9",
   "metadata": {},
   "outputs": [],
   "source": [
    "figures_path = Path(\"output\", \"figures\", \"exp11\", \"exp11_pp_pp_occ_p95_basicq_lassocv_cv_coeff.png\")\n",
    "Image(filename=figures_path) "
   ]
  },
  {
   "cell_type": "markdown",
   "id": "0ba7c5b4-299d-4c1e-b631-ac7e625a7bec",
   "metadata": {},
   "source": [
    "Having the `sqrt_load_pp` term > 0 makes sense since p95 occ should depend on this. However, `rho_pp` is still negative."
   ]
  },
  {
   "cell_type": "markdown",
   "id": "c43b8ec3-9235-400a-bcdd-859b27a49691",
   "metadata": {},
   "source": [
    "#### poly p95\n",
    "\n",
    "Widely used, so let's see how it did."
   ]
  },
  {
   "cell_type": "code",
   "execution_count": null,
   "id": "c9eda060-0d77-4fca-91f9-c3f9fc4ca02b",
   "metadata": {},
   "outputs": [],
   "source": [
    "figures_path = Path(\"output\", \"figures\", \"exp11\", \"exp11_pp_pp_occ_p95_noq_poly_cv_scatter.png\")\n",
    "Image(filename=figures_path) "
   ]
  },
  {
   "cell_type": "code",
   "execution_count": null,
   "id": "6c9b5b16-ef66-468b-935a-73b58be1e32f",
   "metadata": {},
   "outputs": [],
   "source": [
    "figures_path = Path(\"output\", \"figures\", \"exp11\", \"exp11_pp_pp_occ_p95_basicq_poly_cv_scatter.png\")\n",
    "Image(filename=figures_path) "
   ]
  },
  {
   "cell_type": "markdown",
   "id": "aafe474a-a46b-4658-a04c-a0a863152a0e",
   "metadata": {},
   "source": [
    "Interestingly, the noq fits better than basicq."
   ]
  },
  {
   "cell_type": "code",
   "execution_count": null,
   "id": "a2458977-f6ee-4478-9b16-99b54ffdfe9d",
   "metadata": {},
   "outputs": [],
   "source": [
    "figures_path = Path(\"output\", \"figures\", \"exp11\", \"exp11_pp_pp_occ_p95_noq_poly_cv_coeff.png\")\n",
    "Image(filename=figures_path) "
   ]
  },
  {
   "cell_type": "markdown",
   "id": "4cc3a19c-5fb0-469d-8ebc-baaab979f57f",
   "metadata": {},
   "source": [
    "Getting some sign swapping and unstable coeffs."
   ]
  },
  {
   "cell_type": "markdown",
   "id": "56262bf0-6052-41bf-87bf-6af7c771dde5",
   "metadata": {},
   "source": [
    "#### The ML models - rf, nn, svr"
   ]
  },
  {
   "cell_type": "code",
   "execution_count": null,
   "id": "98cea3e0-f637-405c-8f78-2928a857464c",
   "metadata": {},
   "outputs": [],
   "source": [
    "figures_path = Path(\"output\", \"figures\", \"exp11\", \"exp11_pp_pp_occ_p95_noq_rf_cv_scatter.png\")\n",
    "Image(filename=figures_path) "
   ]
  },
  {
   "cell_type": "markdown",
   "id": "178333e7-ba14-44b1-8f29-016748ba5329",
   "metadata": {},
   "source": [
    "Not as good as the linear models, especially at upper end of occupancy levels.\n",
    "\n",
    "Do qnq terms help? Yes, they appear to help a bit."
   ]
  },
  {
   "cell_type": "code",
   "execution_count": null,
   "id": "e2622ddc-7911-427d-ae4a-c1f32ae080fc",
   "metadata": {},
   "outputs": [],
   "source": [
    "figures_path = Path(\"output\", \"figures\", \"exp11\", \"exp11_pp_pp_occ_p95_basicq_rf_cv_scatter.png\")\n",
    "Image(filename=figures_path) "
   ]
  },
  {
   "cell_type": "markdown",
   "id": "eab4ab27-df9d-4975-b569-489ef5fd5ecb",
   "metadata": {},
   "source": [
    "Now for the neural nets. Overall, they perform poorly and if the qng terms help, it's not much."
   ]
  },
  {
   "cell_type": "code",
   "execution_count": null,
   "id": "f0067c92-e576-46a1-85d6-6544caf150fd",
   "metadata": {},
   "outputs": [],
   "source": [
    "figures_path = Path(\"output\", \"figures\", \"exp11\", \"exp11_pp_pp_occ_p95_noq_nn_cv_scatter.png\")\n",
    "Image(filename=figures_path) "
   ]
  },
  {
   "cell_type": "code",
   "execution_count": null,
   "id": "d04d9e6f-515d-496b-8931-4943ed309cb9",
   "metadata": {},
   "outputs": [],
   "source": [
    "figures_path = Path(\"output\", \"figures\", \"exp11\", \"exp11_pp_pp_occ_p95_basicq_nn_cv_scatter.png\")\n",
    "Image(filename=figures_path) "
   ]
  },
  {
   "cell_type": "markdown",
   "id": "2cf06ba8-469f-4e39-ab85-5c9ad8bc9612",
   "metadata": {},
   "source": [
    "Finally, let's look at the svrs. Overall, they perform poorly and if the qng terms help, it's not much."
   ]
  },
  {
   "cell_type": "code",
   "execution_count": null,
   "id": "1de68eef-6d38-411d-80f7-77af86b6f5e0",
   "metadata": {},
   "outputs": [],
   "source": [
    "figures_path = Path(\"output\", \"figures\", \"exp11\", \"exp11_pp_pp_occ_p95_noq_svr_cv_scatter.png\")\n",
    "Image(filename=figures_path) "
   ]
  },
  {
   "cell_type": "code",
   "execution_count": null,
   "id": "676c2e2d-305b-4f91-8b9c-c4e8afcc9680",
   "metadata": {},
   "outputs": [],
   "source": [
    "figures_path = Path(\"output\", \"figures\", \"exp11\", \"exp11_pp_pp_occ_p95_basicq_svr_cv_scatter.png\")\n",
    "Image(filename=figures_path) "
   ]
  },
  {
   "cell_type": "markdown",
   "id": "356c886c-bbfb-45b8-bb02-1e60e7c8057f",
   "metadata": {},
   "source": [
    "#### sqrt load\n",
    "This uses the square root formula as the estimate for p95 occupancy. There is **no** model \"fitting\". "
   ]
  },
  {
   "cell_type": "code",
   "execution_count": null,
   "id": "e0a0692f-ac11-487a-ad1c-b36941ffec4a",
   "metadata": {},
   "outputs": [],
   "source": [
    "figures_path = Path(\"output\", \"figures\", \"exp11\", \"exp11_pp_pp_occ_p95_basicq_sqrtload_cv_scatter.png\")\n",
    "Image(filename=figures_path) "
   ]
  },
  {
   "cell_type": "markdown",
   "id": "e1381a38-d8ac-4ecb-93a2-b1639970537d",
   "metadata": {},
   "source": [
    "<div class=\"alert-warning\">\n",
    "Pretty nice. Would be interesting to fit an lm with load and sqrtload.\n",
    "    <p></p>\n",
    "<b>TODO</b> Need to add code in project to create predictions based just on q'ng approximations for all pm's as well as using the q'ng approx terms alone in linear models. In other words, create X matrices having just the relevant q'ng approx terms for each pm.\n",
    "</div>\n",
    "\n"
   ]
  },
  {
   "cell_type": "code",
   "execution_count": null,
   "id": "f4d25d44-1020-4a91-bda6-fef6268f14d6",
   "metadata": {},
   "outputs": [],
   "source": [
    "X_pp_basicq = pd.read_csv('data/X_pp_basicq_exp11.csv', index_col=0)"
   ]
  },
  {
   "cell_type": "code",
   "execution_count": null,
   "id": "9510728b-390b-4f28-999e-df81da0c7534",
   "metadata": {},
   "outputs": [],
   "source": [
    "X_pp_basicq.info()"
   ]
  },
  {
   "cell_type": "code",
   "execution_count": null,
   "id": "644ded22-ede4-4e10-b060-b27b0c7179df",
   "metadata": {},
   "outputs": [],
   "source": [
    "X_pp_load_sqrtload = X_pp_basicq.loc[:, ['load_pp', 'sqrt_load_pp']]"
   ]
  },
  {
   "cell_type": "code",
   "execution_count": null,
   "id": "b4365287-7303-4041-afd5-e63273224b18",
   "metadata": {},
   "outputs": [],
   "source": [
    "y_pp_occ_mean = pd.read_csv('data/y_pp_occ_mean_exp11.csv', index_col=0, squeeze=True)\n",
    "y_pp_occ_p95 = pd.read_csv('data/y_pp_occ_p95_exp11.csv', index_col=0, squeeze=True)"
   ]
  },
  {
   "cell_type": "code",
   "execution_count": null,
   "id": "023da7a7-ce67-4794-a90e-a43dc50c3a89",
   "metadata": {},
   "outputs": [],
   "source": [
    "pp_occ_p95_sqrtload_lm_results = crossval_summarize_mm('pp_occ_p95_sqrtload_lm', \n",
    "                                                      'pp', 'occ_p95', X_pp_load_sqrtload, y_pp_occ_p95, \n",
    "                                                      scale=False, flavor='lm', fit_intercept=False)\n",
    "pp_occ_p95_sqrtload_lm_results['coeffs_df']"
   ]
  },
  {
   "cell_type": "code",
   "execution_count": null,
   "id": "c10fb176-2472-48b3-8160-ecf7b043aa05",
   "metadata": {},
   "outputs": [],
   "source": [
    "pp_occ_p95_sqrtload_lm_results.keys()"
   ]
  },
  {
   "cell_type": "code",
   "execution_count": null,
   "id": "06006d49-f986-4006-84a7-15f699422c0f",
   "metadata": {},
   "outputs": [],
   "source": [
    "pp_occ_p95_sqrtload_lm_results['fitplot']"
   ]
  },
  {
   "cell_type": "code",
   "execution_count": null,
   "id": "b219b9bf-82f4-44d0-9052-47b73a646f18",
   "metadata": {},
   "outputs": [],
   "source": [
    "pp_occ_mean_load_lm_results = crossval_summarize_mm('pp_occ_mean_load_lm', \n",
    "                                                      'pp', 'occ_mean', X_pp_load_sqrtload, y_pp_occ_mean, \n",
    "                                                      scale=False, flavor='lm', fit_intercept=False)\n",
    "pp_occ_mean_load_lm_results['coeffs_df']"
   ]
  },
  {
   "cell_type": "code",
   "execution_count": null,
   "id": "78ba7d8c-ffe1-4b23-a79b-1085274d9d72",
   "metadata": {},
   "outputs": [],
   "source": [
    "pp_occ_mean_load_lassocv_results = crossval_summarize_mm('pp_occ_mean_load_lassocv', \n",
    "                                                      'pp', 'occ_mean', X_pp_load_sqrtload, y_pp_occ_mean, \n",
    "                                                      scale=False, flavor='lassocv', fit_intercept=False)\n",
    "pp_occ_mean_load_lassocv_results['coeffs_df']"
   ]
  },
  {
   "cell_type": "code",
   "execution_count": null,
   "id": "92a93819-2cef-4edb-82d9-213c9905fce2",
   "metadata": {},
   "outputs": [],
   "source": [
    "pp_occ_mean_load_lassocv_results['fitplot']"
   ]
  },
  {
   "cell_type": "code",
   "execution_count": null,
   "id": "a4d34dce-19d7-4562-8ac2-1b070910816c",
   "metadata": {},
   "outputs": [],
   "source": [
    "pp_occ_mean_load_lm_results['fitplot']"
   ]
  },
  {
   "cell_type": "markdown",
   "id": "30018520-4c73-4893-9343-d5c438cba999",
   "metadata": {},
   "source": [
    "A bit of strangeness with scaling. The model above used scaling=False and things look good in that load is near 1 as expected. However, if we scale... (which we should since it's lasso)"
   ]
  },
  {
   "cell_type": "code",
   "execution_count": null,
   "id": "d29cdaa8-4460-4df2-923d-1688cf12c2d4",
   "metadata": {},
   "outputs": [],
   "source": [
    "pp_occ_mean_load_lassocv_scaled_results = crossval_summarize_mm('pp_occ_mean_load_lassocv', \n",
    "                                                      'pp', 'occ_mean', X_pp_load_sqrtload, y_pp_occ_mean, \n",
    "                                                      scale=True, flavor='lassocv', fit_intercept=False)\n",
    "pp_occ_mean_load_lassocv_scaled_results['coeffs_df']"
   ]
  },
  {
   "cell_type": "code",
   "execution_count": null,
   "id": "cc77fdc7-bb5e-4576-8518-213a8cc6545a",
   "metadata": {},
   "outputs": [],
   "source": [
    "pp_occ_mean_load_lassocv_scaled_results['scaling']"
   ]
  },
  {
   "cell_type": "markdown",
   "id": "b37d9401-8914-4f76-80a2-4457da3313e1",
   "metadata": {},
   "source": [
    "Hmm, not really sure how to interpret this. Am I handling the fit_intercept argument correctly in the code? I appear to be."
   ]
  },
  {
   "cell_type": "code",
   "execution_count": null,
   "id": "fcb61057-7a56-4d1a-aab8-91617ac30407",
   "metadata": {},
   "outputs": [],
   "source": [
    "pp_occ_mean_load_lassocv_results['scaling']"
   ]
  },
  {
   "cell_type": "markdown",
   "id": "319081c2-e99f-428d-9b9a-0440db2cd9c5",
   "metadata": {},
   "source": [
    "## LDR results\n"
   ]
  },
  {
   "cell_type": "markdown",
   "id": "38e3aec2-1dae-489a-ac24-5d0d131e8e43",
   "metadata": {},
   "source": [
    "### LDR mean occupancy\n",
    "\n",
    "#### lm and lassocv\n",
    "\n",
    "Let's start here as they are simplest."
   ]
  },
  {
   "cell_type": "code",
   "execution_count": null,
   "id": "b5a17d28-5205-4ced-a54d-1bc72ae0f17c",
   "metadata": {},
   "outputs": [],
   "source": [
    "figures_path = Path(\"output\", \"figures\", \"exp11\", \"exp11_ldr_ldr_occ_mean_noq_lm_cv_scatter.png\")\n",
    "Image(filename=figures_path) "
   ]
  },
  {
   "cell_type": "markdown",
   "id": "4f55b623-3929-4bda-be13-e5d04f1f9d70",
   "metadata": {},
   "source": [
    "Linear model with noq does very well. What if we add the basicq fields? "
   ]
  },
  {
   "cell_type": "code",
   "execution_count": null,
   "id": "997b0376-11b9-466a-94e6-b101632cf498",
   "metadata": {},
   "outputs": [],
   "source": [
    "figures_path = Path(\"output\", \"figures\", \"exp11\", \"exp11_ldr_ldr_occ_mean_basicq_lm_cv_scatter.png\")\n",
    "Image(filename=figures_path) "
   ]
  },
  {
   "cell_type": "code",
   "execution_count": null,
   "id": "44beae8f-09a1-4706-9c74-4c07f16f3cc0",
   "metadata": {},
   "outputs": [],
   "source": [
    "figures_path = Path(\"output\", \"figures\", \"exp11\", \"exp11_ldr_ldr_occ_mean_q_lm_cv_scatter.png\")\n",
    "Image(filename=figures_path) "
   ]
  },
  {
   "cell_type": "code",
   "execution_count": null,
   "id": "4254bace-d419-41eb-8b0c-4425ae6b88a0",
   "metadata": {},
   "outputs": [],
   "source": [
    "figures_path = Path(\"output\", \"figures\", \"exp11\", \"exp11_ldr_ldr_occ_mean_q_lm_cv_coeff.png\")\n",
    "Image(filename=figures_path) "
   ]
  },
  {
   "cell_type": "markdown",
   "id": "eda49669-f3d2-43ea-aa0d-20e8bfb88d7d",
   "metadata": {},
   "source": [
    "Fits are great; queueing terms help. Coefficients have some instability and strange signs.\n",
    "\n",
    "Let's look at the lasso models with q'ng."
   ]
  },
  {
   "cell_type": "code",
   "execution_count": null,
   "id": "32862727-11ea-499b-81af-6affbaf0a4d3",
   "metadata": {},
   "outputs": [],
   "source": [
    "figures_path = Path(\"output\", \"figures\", \"exp11\", \"exp11_ldr_ldr_occ_mean_q_lassocv_cv_scatter.png\")\n",
    "Image(filename=figures_path) "
   ]
  },
  {
   "cell_type": "code",
   "execution_count": null,
   "id": "3734e40a-e993-4224-a04e-1c5e958b2113",
   "metadata": {},
   "outputs": [],
   "source": [
    "figures_path = Path(\"output\", \"figures\", \"exp11\", \"exp11_ldr_ldr_occ_mean_q_lassocv_cv_coeff.png\")\n",
    "Image(filename=figures_path) "
   ]
  },
  {
   "cell_type": "markdown",
   "id": "af9464ed-7f42-4dac-b11b-3db18fdd8950",
   "metadata": {},
   "source": [
    "It appears that since LOS is constant in LDR across scenarios, the arrival rate variable is actually accounting for the load (note that load coeffs are zero). Actually, the effective service time, prob of being blocked and associated cond mean time blocked are also showing up with positive coefficients. \n",
    "some difficult to interpret coefficient signs."
   ]
  },
  {
   "cell_type": "markdown",
   "id": "3294f72a-0735-4fcc-b5d3-b3f3f30f9cf6",
   "metadata": {},
   "source": [
    "#### poly\n",
    "\n",
    "Widely used, so let's see how it did."
   ]
  },
  {
   "cell_type": "code",
   "execution_count": null,
   "id": "a74ee5f0-c0eb-4d66-8769-668af218d18d",
   "metadata": {},
   "outputs": [],
   "source": [
    "figures_path = Path(\"output\", \"figures\", \"exp11\", \"exp11_ldr_ldr_occ_mean_noq_poly_cv_scatter.png\")\n",
    "Image(filename=figures_path) "
   ]
  },
  {
   "cell_type": "markdown",
   "id": "bb6c5fbb-4844-428e-8143-34f5bd06502a",
   "metadata": {},
   "source": [
    "The poly model fits very well even with no qng terms."
   ]
  },
  {
   "cell_type": "code",
   "execution_count": null,
   "id": "0d216848-c2b5-4754-a4fe-ae1d7b199123",
   "metadata": {},
   "outputs": [],
   "source": [
    "figures_path = Path(\"output\", \"figures\", \"exp11\", \"exp11_ldr_ldr_occ_mean_q_lm_cv_scatter.png\")\n",
    "Image(filename=figures_path) "
   ]
  },
  {
   "cell_type": "markdown",
   "id": "b4f608d2-91af-4af5-be0a-85378f6963f6",
   "metadata": {},
   "source": [
    "What about the coeffs?"
   ]
  },
  {
   "cell_type": "code",
   "execution_count": null,
   "id": "2cf12097-34e4-4397-a72f-bcbfa35cf669",
   "metadata": {},
   "outputs": [],
   "source": [
    "figures_path = Path(\"output\", \"figures\", \"exp11\", \"exp11_ldr_ldr_occ_mean_noq_poly_cv_coeff.png\")\n",
    "Image(filename=figures_path) "
   ]
  },
  {
   "cell_type": "markdown",
   "id": "6f5830d7-6197-4af8-a6cf-f2496fd3bd64",
   "metadata": {},
   "source": [
    "Some strange signs and instability."
   ]
  },
  {
   "cell_type": "markdown",
   "id": "39adb90d-e1c9-4eb1-a3a3-151b303d0e99",
   "metadata": {},
   "source": [
    "#### The ML models - rf, nn, svr"
   ]
  },
  {
   "cell_type": "code",
   "execution_count": null,
   "id": "d03e3df7-5612-4c6f-b583-210d15d8568e",
   "metadata": {},
   "outputs": [],
   "source": [
    "figures_path = Path(\"output\", \"figures\", \"exp11\", \"exp11_ldr_ldr_occ_mean_noq_rf_cv_scatter.png\")\n",
    "Image(filename=figures_path) "
   ]
  },
  {
   "cell_type": "markdown",
   "id": "04a64628-8113-4a6c-b2f9-0d1a8284f436",
   "metadata": {},
   "source": [
    "Not as good as the linear models, especially at upper end of occupancy levels.\n",
    "\n",
    "Do qnq terms help? Yes, they appear to help a bit."
   ]
  },
  {
   "cell_type": "code",
   "execution_count": null,
   "id": "bd13f14b-348d-4dbe-9569-6a6d673f836e",
   "metadata": {},
   "outputs": [],
   "source": [
    "figures_path = Path(\"output\", \"figures\", \"exp11\", \"exp11_ldr_ldr_occ_mean_q_rf_cv_scatter.png\")\n",
    "Image(filename=figures_path) "
   ]
  },
  {
   "cell_type": "markdown",
   "id": "7dc856a3-a9b0-45f8-a4bd-5151c0b34c4b",
   "metadata": {},
   "source": [
    "Now for the neural nets. Overall, they perform poorly and if the qng terms help, it's not much."
   ]
  },
  {
   "cell_type": "code",
   "execution_count": null,
   "id": "d924906f-5c8b-4075-ab0a-72ec5f948991",
   "metadata": {},
   "outputs": [],
   "source": [
    "figures_path = Path(\"output\", \"figures\", \"exp11\", \"exp11_ldr_ldr_occ_mean_q_nn_cv_scatter.png\")\n",
    "Image(filename=figures_path) "
   ]
  },
  {
   "cell_type": "code",
   "execution_count": null,
   "id": "20911bba-94fa-47df-b019-8908e041b161",
   "metadata": {},
   "outputs": [],
   "source": [
    "figures_path = Path(\"output\", \"figures\", \"exp11\", \"exp11_ldr_ldr_occ_mean_q_nn_cv_scatter.png\")\n",
    "Image(filename=figures_path) "
   ]
  },
  {
   "cell_type": "markdown",
   "id": "27c17b51-13cc-4959-886c-97efc2e2fdd5",
   "metadata": {},
   "source": [
    "Finally, let's look at the svrs. Overall, they perform poorly and if the qng terms help, it's not much."
   ]
  },
  {
   "cell_type": "code",
   "execution_count": null,
   "id": "b6156c14-2f85-4878-b1bf-20039faaed5f",
   "metadata": {},
   "outputs": [],
   "source": [
    "figures_path = Path(\"output\", \"figures\", \"exp11\", \"exp11_ldr_ldr_occ_mean_noq_svr_cv_scatter.png\")\n",
    "Image(filename=figures_path) "
   ]
  },
  {
   "cell_type": "code",
   "execution_count": null,
   "id": "3a17c56c-ad05-4b80-917c-a6b7e957a848",
   "metadata": {},
   "outputs": [],
   "source": [
    "figures_path = Path(\"output\", \"figures\", \"exp11\", \"exp11_ldr_ldr_occ_mean_q_svr_cv_scatter.png\")\n",
    "Image(filename=figures_path) "
   ]
  },
  {
   "cell_type": "markdown",
   "id": "7cd6e0c6-5d54-4acd-ac36-6e330a01aa8c",
   "metadata": {},
   "source": [
    "### LDR 95%ile occupancy"
   ]
  },
  {
   "cell_type": "markdown",
   "id": "b4741b39-f4e6-4105-921c-f395f51b16fd",
   "metadata": {},
   "source": [
    "#### lm and lassocv\n",
    "\n",
    "Let's start here as they are simplest."
   ]
  },
  {
   "cell_type": "code",
   "execution_count": null,
   "id": "72a38bb7-f69a-4bd8-a876-c836f9517853",
   "metadata": {},
   "outputs": [],
   "source": [
    "figures_path = Path(\"output\", \"figures\", \"exp11\", \"exp11_ldr_ldr_occ_p95_noq_lm_cv_scatter.png\")\n",
    "Image(filename=figures_path) "
   ]
  },
  {
   "cell_type": "code",
   "execution_count": null,
   "id": "fb0c22c3-db86-48f8-983b-d9a120794fe9",
   "metadata": {},
   "outputs": [],
   "source": [
    "figures_path = Path(\"output\", \"figures\", \"exp11\", \"exp11_ldr_ldr_occ_p95_noq_lm_cv_coeff.png\")\n",
    "Image(filename=figures_path) "
   ]
  },
  {
   "cell_type": "markdown",
   "id": "e19061ab-ee9b-4737-bf53-592fa9c7aad4",
   "metadata": {},
   "source": [
    "The above coeffs are a bit baffling and surprising it fits so well - aaahhh, it's a pretty packed unit and the 95th percentile is usually the capacity. Seems like all modeling techniques should work well."
   ]
  },
  {
   "cell_type": "code",
   "execution_count": null,
   "id": "d51a67f6-b550-4ac8-bd9c-b42cd0041fc2",
   "metadata": {},
   "outputs": [],
   "source": [
    "figures_path = Path(\"output\", \"figures\", \"exp11\", \"exp11_ldr_ldr_occ_p95_q_lm_cv_scatter.png\")\n",
    "Image(filename=figures_path) "
   ]
  },
  {
   "cell_type": "code",
   "execution_count": null,
   "id": "a2829da3-3db7-4475-9113-98755cb19280",
   "metadata": {},
   "outputs": [],
   "source": [
    "figures_path = Path(\"output\", \"figures\", \"exp11\", \"exp11_ldr_ldr_occ_p95_q_rf_cv_scatter.png\")\n",
    "Image(filename=figures_path) "
   ]
  },
  {
   "cell_type": "code",
   "execution_count": null,
   "id": "00ee4f80-cfcd-4222-9ca6-e1f45c7d779c",
   "metadata": {},
   "outputs": [],
   "source": [
    "figures_path = Path(\"output\", \"figures\", \"exp11\", \"exp11_ldr_ldr_occ_p95_q_nn_cv_scatter.png\")\n",
    "Image(filename=figures_path) "
   ]
  },
  {
   "cell_type": "markdown",
   "id": "77a52286-edce-4937-9241-295846e3daed",
   "metadata": {},
   "source": [
    "The NN is still pretty bad"
   ]
  },
  {
   "cell_type": "code",
   "execution_count": null,
   "id": "6eb74bee-1d5a-47bc-99b1-53f439edd99a",
   "metadata": {},
   "outputs": [],
   "source": [
    "figures_path = Path(\"output\", \"figures\", \"exp11\", \"exp11_ldr_ldr_occ_p95_q_svr_cv_scatter.png\")\n",
    "Image(filename=figures_path) "
   ]
  },
  {
   "cell_type": "markdown",
   "id": "09fd7c22-a7a8-490f-b313-d57f58ba0cc4",
   "metadata": {},
   "source": [
    "... as is the SVM"
   ]
  },
  {
   "cell_type": "code",
   "execution_count": null,
   "id": "83ee8a86-12f4-45e2-8cf4-f831224d9ced",
   "metadata": {},
   "outputs": [],
   "source": [
    "figures_path = Path(\"output\", \"figures\", \"exp11\", \"exp11_ldr_ldr_occ_p95_q_poly_cv_scatter.png\")\n",
    "Image(filename=figures_path) "
   ]
  },
  {
   "cell_type": "markdown",
   "id": "f887f5e7-8a55-41ac-b0df-1d2cc14d8fc5",
   "metadata": {},
   "source": [
    "WTF? Is this truly from overfitting?"
   ]
  },
  {
   "cell_type": "code",
   "execution_count": null,
   "id": "3d487544-06ff-41b8-9e20-23acdb7bfc2d",
   "metadata": {},
   "outputs": [],
   "source": [
    "figures_path = Path(\"output\", \"figures\", \"exp11\", \"exp11_ldr_ldr_occ_p95_noq_poly_cv_scatter.png\")\n",
    "Image(filename=figures_path) "
   ]
  },
  {
   "cell_type": "code",
   "execution_count": null,
   "id": "77b22e65-6b05-444b-80f0-707dab5c8682",
   "metadata": {},
   "outputs": [],
   "source": [
    "figures_path = Path(\"output\", \"figures\", \"exp11\", \"exp11_ldr_ldr_occ_p95_noq_poly_cv_coeff.png\")\n",
    "Image(filename=figures_path) "
   ]
  },
  {
   "cell_type": "code",
   "execution_count": null,
   "id": "50daf666-b225-426b-adcb-6b870fdc468a",
   "metadata": {},
   "outputs": [],
   "source": [
    "X_ldr_noq = pd.read_csv('data/X_ldr_noq_exp11.csv', index_col=0)\n",
    "X_ldr_q = pd.read_csv('data/X_ldr_q_exp11.csv', index_col=0)\n",
    "y_ldr_occ_p95 = pd.read_csv('data/y_ldr_occ_p95_exp11.csv', index_col=0, squeeze=True)"
   ]
  },
  {
   "cell_type": "code",
   "execution_count": null,
   "id": "60425570-8c45-49f3-8d56-d0cdf96c0e70",
   "metadata": {},
   "outputs": [],
   "source": [
    "ldr_occ_p95_noq_poly_scaled_results = \\\n",
    "    crossval_summarize_mm('ldr_occ_p95_noq_poly', 'ldr', 'occ_p95', X_ldr_noq, y_ldr_occ_p95, scale=False, flavor='poly')\n",
    "\n",
    "ldr_occ_p95_noq_poly_scaled_results['fitplot']"
   ]
  },
  {
   "cell_type": "code",
   "execution_count": null,
   "id": "bb7a003a-485c-4d5f-95be-6a369051e9c3",
   "metadata": {},
   "outputs": [],
   "source": [
    "ldr_occ_p95_noq_poly_scaled_results['coefplot']"
   ]
  },
  {
   "cell_type": "code",
   "execution_count": null,
   "id": "2a263805-a8b7-4c67-8bc7-25451e8122b4",
   "metadata": {},
   "outputs": [],
   "source": [
    "ldr_occ_p95_q_poly_scaled_results = \\\n",
    "    crossval_summarize_mm('ldr_occ_p95_q_poly', 'ldr', 'occ_p95', X_ldr_q, y_ldr_occ_p95, scale=False, flavor='poly')\n",
    "\n",
    "ldr_occ_p95_q_poly_scaled_results['fitplot']"
   ]
  },
  {
   "cell_type": "markdown",
   "id": "7113ee5f-3ad9-457f-b9eb-737631dcb65d",
   "metadata": {},
   "source": [
    "### LDR pct blocked\n",
    "\n",
    "Welp, looking at the plots below, for some reason I didn't include erlangc terms in these models. Seems like they should have been in all the q based X dataframes. Wait, they are. Why doesn't the coeff plot below include them. Strangely, the erlangc vars are in the basicq plots.\n",
    "\n",
    "**RESOLUTION - 2021-09-13** Yes, in `run_mm_fits_ldr.py` I literally flipped the scenario names for basicq and q for pct blocked for all the model types. Eventually will need to rerun everything anyway because I'm sure there are additional issues to be fixed."
   ]
  },
  {
   "cell_type": "code",
   "execution_count": null,
   "id": "cb4765a2-e5e5-4f25-8b43-3006788360c7",
   "metadata": {},
   "outputs": [],
   "source": [
    "X_ldr_q.info()"
   ]
  },
  {
   "cell_type": "code",
   "execution_count": null,
   "id": "caa282ee-7c17-4091-bd55-be6b10a89791",
   "metadata": {},
   "outputs": [],
   "source": [
    "ldr_occ_p95_q_poly_scaled_results.keys()"
   ]
  },
  {
   "cell_type": "markdown",
   "id": "7ea2df3c-b266-4a71-8613-2bbe016ea775",
   "metadata": {},
   "source": [
    "This next plot is actually basicq."
   ]
  },
  {
   "cell_type": "code",
   "execution_count": null,
   "id": "c2b3c2ca-6417-4ec4-8ae6-870ada989b13",
   "metadata": {},
   "outputs": [],
   "source": [
    "figures_path = Path(\"output\", \"figures\", \"exp11\", \"exp11_ldr_mean_pct_blocked_by_pp_q_lm_cv_scatter.png\")\n",
    "Image(filename=figures_path) "
   ]
  },
  {
   "cell_type": "markdown",
   "id": "0becb8f8-5b78-435c-bf13-2025ad6ad25c",
   "metadata": {},
   "source": [
    "... and this one is actually q."
   ]
  },
  {
   "cell_type": "code",
   "execution_count": null,
   "id": "6aa598bf-8b53-4053-a5fc-c121a415e273",
   "metadata": {},
   "outputs": [],
   "source": [
    "figures_path = Path(\"output\", \"figures\", \"exp11\", \"exp11_ldr_mean_pct_blocked_by_pp_basicq_lm_cv_scatter.png\")\n",
    "Image(filename=figures_path) "
   ]
  },
  {
   "cell_type": "markdown",
   "id": "716a1901-ea9b-454a-a29b-cf5a28c888a4",
   "metadata": {},
   "source": [
    "So, for some basicq had the erlang terms in the models but q didn't. But if we read the X_ldr_q, it has the terms. It's like they got switched in the modeling calls.\n",
    "\n",
    "**YES, see above. I switched the scenario names**."
   ]
  },
  {
   "cell_type": "code",
   "execution_count": null,
   "id": "e3287500-2b6f-4a86-97cd-9d9eb600feb3",
   "metadata": {},
   "outputs": [],
   "source": [
    "figures_path = Path(\"output\", \"figures\", \"exp11\", \"exp11_ldr_mean_pct_blocked_by_pp_q_lassocv_cv_scatter.png\")\n",
    "Image(filename=figures_path) "
   ]
  },
  {
   "cell_type": "code",
   "execution_count": null,
   "id": "272577d6-701a-476a-9383-d0bf551a1bc6",
   "metadata": {},
   "outputs": [],
   "source": [
    "figures_path = Path(\"output\", \"figures\", \"exp11\", \"exp11_ldr_mean_pct_blocked_by_pp_q_lm_cv_coeff.png\")\n",
    "Image(filename=figures_path) "
   ]
  },
  {
   "cell_type": "code",
   "execution_count": null,
   "id": "cf919908-2bb1-4356-abc1-8ee8facb433e",
   "metadata": {},
   "outputs": [],
   "source": [
    "figures_path = Path(\"output\", \"figures\", \"exp11\", \"exp11_ldr_mean_pct_blocked_by_pp_noq_lm_cv_scatter.png\")\n",
    "Image(filename=figures_path) "
   ]
  },
  {
   "cell_type": "markdown",
   "id": "2a4ef584-0ece-44a0-ace1-3cf2c9c17191",
   "metadata": {},
   "source": [
    "### Conditional mean blocked time"
   ]
  },
  {
   "cell_type": "code",
   "execution_count": null,
   "id": "33231f9d-045d-4560-89f3-2497ef2a6e45",
   "metadata": {},
   "outputs": [],
   "source": [
    "figures_path = Path(\"output\", \"figures\", \"exp11\", \"exp11_ldr_condmeantime_blockedbypp_q_lm_cv_scatter.png\")\n",
    "Image(filename=figures_path) "
   ]
  },
  {
   "cell_type": "code",
   "execution_count": null,
   "id": "6ff4ff13-8f63-4ffd-b23d-c0d46f0f9c7e",
   "metadata": {},
   "outputs": [],
   "source": [
    "figures_path = Path(\"output\", \"figures\", \"exp11\", \"exp11_ldr_condmeantime_blockedbypp_q_lm_cv_coeff.png\")\n",
    "Image(filename=figures_path) "
   ]
  },
  {
   "cell_type": "code",
   "execution_count": null,
   "id": "d575d4ac-e7e6-43bc-9091-3a78027307b6",
   "metadata": {},
   "outputs": [],
   "source": [
    "figures_path = Path(\"output\", \"figures\", \"exp11\", \"exp11_ldr_condmeantime_blockedbypp_q_lassocv_cv_scatter.png\")\n",
    "Image(filename=figures_path) "
   ]
  },
  {
   "cell_type": "code",
   "execution_count": null,
   "id": "9edabe1d-ce1f-4c43-a561-4036e6ca61af",
   "metadata": {},
   "outputs": [],
   "source": [
    "figures_path = Path(\"output\", \"figures\", \"exp11\", \"exp11_ldr_condmeantime_blockedbypp_q_lassocv_cv_coeff.png\")\n",
    "Image(filename=figures_path) "
   ]
  },
  {
   "cell_type": "code",
   "execution_count": null,
   "id": "f58832d5-5587-4c0c-85d6-0f55e09006f2",
   "metadata": {},
   "outputs": [],
   "source": [
    "figures_path = Path(\"output\", \"figures\", \"exp11\", \"exp11_ldr_condmeantime_blockedbypp_noq_lassocv_cv_scatter.png\")\n",
    "Image(filename=figures_path) "
   ]
  },
  {
   "cell_type": "markdown",
   "id": "f389c694-0205-4960-8a80-74bd2e234fdd",
   "metadata": {},
   "source": [
    "### LDR queueing approximations"
   ]
  },
  {
   "cell_type": "markdown",
   "id": "a897317a-525c-4cc7-8e88-7d0d46316f9c",
   "metadata": {},
   "source": [
    "#### load\n",
    "This uses the offered load as the estimate for mean occupancy. There is **no** model \"fitting\". Since patients can be blocked in ldr (increasing effective LOS) and could have been delayed in OBS (decreasing effective LOS), load based on effective mean service time should do better than a load model based on load_ldr."
   ]
  },
  {
   "cell_type": "code",
   "execution_count": null,
   "id": "942c01bf-9f9b-4c44-81cf-7917123378bd",
   "metadata": {},
   "outputs": [],
   "source": [
    "figures_path = Path(\"output\", \"figures\", \"exp11\", \"exp11_ldr_ldr_occ_mean_q_load_cv_scatter.png\")\n",
    "Image(filename=figures_path) "
   ]
  },
  {
   "cell_type": "code",
   "execution_count": 25,
   "id": "f1c690ff-efed-483d-9375-d70cb81031dc",
   "metadata": {},
   "outputs": [],
   "source": [
    "X_ldr_q = pd.read_csv('data/X_ldr_q_exp11.csv', index_col=0)"
   ]
  },
  {
   "cell_type": "code",
   "execution_count": null,
   "id": "84bbfae3-a65d-46b2-84c7-c7b417f5e43d",
   "metadata": {},
   "outputs": [],
   "source": [
    "X_ldr_q.info()"
   ]
  },
  {
   "cell_type": "code",
   "execution_count": null,
   "id": "193899a6-43f6-45e4-852f-4ec59c1acdb4",
   "metadata": {},
   "outputs": [],
   "source": [
    "X_ldr_q['load_eff_ldr'] = X_ldr_q['arrival_rate'] * X_ldr_q['ldr_effmean_svctime_approx']\n",
    "X_ldr_q['sqrt_load_eff_ldr'] = (X_ldr_q['arrival_rate'] * X_ldr_q['ldr_effmean_svctime_approx']) ** 0.5"
   ]
  },
  {
   "cell_type": "code",
   "execution_count": null,
   "id": "b14635af-c204-409f-9247-31ca7eb62457",
   "metadata": {},
   "outputs": [],
   "source": [
    "X_ldr_load_eff = X_ldr_q.loc[:, ['load_eff_ldr']]"
   ]
  },
  {
   "cell_type": "code",
   "execution_count": null,
   "id": "325f24d3-4685-4a22-8bdb-0fa303ccea72",
   "metadata": {},
   "outputs": [],
   "source": [
    "X_ldr_load_eff_sqrtload = X_ldr_q.loc[:, ['load_eff_ldr', 'sqrt_load_eff_ldr']]"
   ]
  },
  {
   "cell_type": "code",
   "execution_count": 17,
   "id": "e139f0de-dbe8-4782-b799-4beecff75a5c",
   "metadata": {},
   "outputs": [],
   "source": [
    "y_ldr_occ_mean = pd.read_csv('data/y_ldr_occ_mean_exp11.csv', index_col=0, squeeze=True)\n",
    "y_ldr_occ_p95 = pd.read_csv('data/y_ldr_occ_p95_exp11.csv', index_col=0, squeeze=True)\n",
    "\n",
    "y_mean_pct_blocked_by_pp = pd.read_csv('data/y_mean_pct_blocked_by_pp_exp11.csv', index_col=0, squeeze=True)\n",
    "y_condmeantime_blockedbypp = pd.read_csv('data/y_condmeantime_blockedbypp_exp11.csv', index_col=0, squeeze=True)"
   ]
  },
  {
   "cell_type": "code",
   "execution_count": null,
   "id": "e80d4c85-61a2-464c-acc4-5ddbd53c7d44",
   "metadata": {},
   "outputs": [],
   "source": [
    "ldr_occ_mean_eff_load_lm_results = crossval_summarize_mm('ldr_occ_mean_eff_load_lm', \n",
    "                                                      'ldr', 'occ_mean', X_ldr_load_eff, y_ldr_occ_mean, \n",
    "                                                      scale=False, flavor='lm', fit_intercept=False)\n",
    "ldr_occ_mean_eff_load_lm_results['coeffs_df']"
   ]
  },
  {
   "cell_type": "code",
   "execution_count": null,
   "id": "5bf26a46-2fbd-4f66-9610-2e7a698f4597",
   "metadata": {},
   "outputs": [],
   "source": [
    "ldr_occ_mean_eff_load_lm_results['fitplot']"
   ]
  },
  {
   "cell_type": "code",
   "execution_count": null,
   "id": "c5f25ba4-6d84-4066-a148-56fa49bd24bb",
   "metadata": {},
   "outputs": [],
   "source": [
    "ldr_occ_p95_eff_sqrtload_lm_results = crossval_summarize_mm('ldr_occ_p95_eff_sqrtload_lm', \n",
    "                                                      'ldr', 'occ_p95', X_ldr_load_eff_sqrtload, y_ldr_occ_p95, \n",
    "                                                      scale=False, flavor='lm', fit_intercept=False)\n",
    "ldr_occ_p95_eff_sqrtload_lm_results['coeffs_df']"
   ]
  },
  {
   "cell_type": "code",
   "execution_count": null,
   "id": "304523e4-4e15-4b5d-a151-8ba699d1dcf4",
   "metadata": {},
   "outputs": [],
   "source": [
    "ldr_occ_p95_eff_sqrtload_lm_results['fitplot']"
   ]
  },
  {
   "cell_type": "code",
   "execution_count": null,
   "id": "8e5b32fb-f493-4bac-b171-8b36e8d09fd5",
   "metadata": {},
   "outputs": [],
   "source": [
    "ldr_occ_p95_eff_sqrtload_lm_results['metrics_df']"
   ]
  },
  {
   "cell_type": "markdown",
   "id": "70287e91-f22c-4ddb-b013-6e19f8874015",
   "metadata": {},
   "source": [
    "**NOTE** On 2021-09-15, I updated `dataprep.py` to create new X matrices having just relevant queueing related terms so that they can be used as input for lm, lasso, or other models."
   ]
  },
  {
   "cell_type": "code",
   "execution_count": 18,
   "id": "3af11697-b236-4e59-b20f-7d8a9c87b3b3",
   "metadata": {},
   "outputs": [],
   "source": [
    "X_ldr_occmean_onlyq = pd.read_csv('data/X_ldr_occmean_onlyq_exp11.csv', index_col=0)\n",
    "X_ldr_occp95_onlyq = pd.read_csv('data/X_ldr_occp95_onlyq_exp11.csv', index_col=0)\n",
    "\n",
    "X_ldr_prob_blockedby_pp_onlyq = pd.read_csv('data/X_ldr_prob_blockedby_pp_onlyq_exp11.csv', index_col=0)\n",
    "X_ldr_condmeantime_blockedbypp_onlyq = pd.read_csv('data/X_ldr_condmeantime_blockedbypp_onlyq_exp11.csv', index_col=0)"
   ]
  },
  {
   "cell_type": "code",
   "execution_count": 24,
   "id": "c72f9429-5ba8-433f-aa8f-1e11e13cb069",
   "metadata": {},
   "outputs": [
    {
     "data": {
      "text/html": [
       "<div>\n",
       "<style scoped>\n",
       "    .dataframe tbody tr th:only-of-type {\n",
       "        vertical-align: middle;\n",
       "    }\n",
       "\n",
       "    .dataframe tbody tr th {\n",
       "        vertical-align: top;\n",
       "    }\n",
       "\n",
       "    .dataframe thead th {\n",
       "        text-align: right;\n",
       "    }\n",
       "</style>\n",
       "<table border=\"1\" class=\"dataframe\">\n",
       "  <thead>\n",
       "    <tr style=\"text-align: right;\">\n",
       "      <th></th>\n",
       "      <th>prob_blockedby_pp_approx</th>\n",
       "    </tr>\n",
       "    <tr>\n",
       "      <th>scenario</th>\n",
       "      <th></th>\n",
       "    </tr>\n",
       "  </thead>\n",
       "  <tbody>\n",
       "    <tr>\n",
       "      <th>1</th>\n",
       "      <td>0.023199</td>\n",
       "    </tr>\n",
       "    <tr>\n",
       "      <th>2</th>\n",
       "      <td>0.103794</td>\n",
       "    </tr>\n",
       "    <tr>\n",
       "      <th>3</th>\n",
       "      <td>0.200133</td>\n",
       "    </tr>\n",
       "    <tr>\n",
       "      <th>4</th>\n",
       "      <td>0.023199</td>\n",
       "    </tr>\n",
       "    <tr>\n",
       "      <th>5</th>\n",
       "      <td>0.103794</td>\n",
       "    </tr>\n",
       "    <tr>\n",
       "      <th>...</th>\n",
       "      <td>...</td>\n",
       "    </tr>\n",
       "    <tr>\n",
       "      <th>131</th>\n",
       "      <td>0.001506</td>\n",
       "    </tr>\n",
       "    <tr>\n",
       "      <th>132</th>\n",
       "      <td>0.004643</td>\n",
       "    </tr>\n",
       "    <tr>\n",
       "      <th>133</th>\n",
       "      <td>0.000186</td>\n",
       "    </tr>\n",
       "    <tr>\n",
       "      <th>134</th>\n",
       "      <td>0.001506</td>\n",
       "    </tr>\n",
       "    <tr>\n",
       "      <th>135</th>\n",
       "      <td>0.004643</td>\n",
       "    </tr>\n",
       "  </tbody>\n",
       "</table>\n",
       "<p>135 rows × 1 columns</p>\n",
       "</div>"
      ],
      "text/plain": [
       "          prob_blockedby_pp_approx\n",
       "scenario                          \n",
       "1                         0.023199\n",
       "2                         0.103794\n",
       "3                         0.200133\n",
       "4                         0.023199\n",
       "5                         0.103794\n",
       "...                            ...\n",
       "131                       0.001506\n",
       "132                       0.004643\n",
       "133                       0.000186\n",
       "134                       0.001506\n",
       "135                       0.004643\n",
       "\n",
       "[135 rows x 1 columns]"
      ]
     },
     "execution_count": 24,
     "metadata": {},
     "output_type": "execute_result"
    }
   ],
   "source": [
    "X_ldr_prob_blockedby_pp_onlyq"
   ]
  },
  {
   "cell_type": "code",
   "execution_count": 27,
   "id": "849ca6ba-4bd0-4b79-96ed-739b31e849a5",
   "metadata": {},
   "outputs": [
    {
     "data": {
      "text/html": [
       "<div>\n",
       "<style scoped>\n",
       "    .dataframe tbody tr th:only-of-type {\n",
       "        vertical-align: middle;\n",
       "    }\n",
       "\n",
       "    .dataframe tbody tr th {\n",
       "        vertical-align: top;\n",
       "    }\n",
       "\n",
       "    .dataframe thead th {\n",
       "        text-align: right;\n",
       "    }\n",
       "</style>\n",
       "<table border=\"1\" class=\"dataframe\">\n",
       "  <thead>\n",
       "    <tr style=\"text-align: right;\">\n",
       "      <th></th>\n",
       "      <th>arrival_rate</th>\n",
       "      <th>mean_los_obs</th>\n",
       "      <th>mean_los_ldr</th>\n",
       "      <th>cap_ldr</th>\n",
       "      <th>mean_los_pp</th>\n",
       "      <th>c_sect_prob</th>\n",
       "      <th>cap_pp</th>\n",
       "      <th>load_ldr</th>\n",
       "      <th>rho_ldr</th>\n",
       "      <th>load_pp</th>\n",
       "      <th>rho_pp</th>\n",
       "      <th>prob_blockedby_pp_approx</th>\n",
       "      <th>condmeantime_blockedbypp_approx</th>\n",
       "      <th>prob_blockedby_ldr_approx</th>\n",
       "      <th>condmeantime_blockedbyldr_approx</th>\n",
       "      <th>ldr_effmean_svctime_approx</th>\n",
       "      <th>sqrt_load_ldr</th>\n",
       "      <th>sqrt_load_pp</th>\n",
       "    </tr>\n",
       "    <tr>\n",
       "      <th>scenario</th>\n",
       "      <th></th>\n",
       "      <th></th>\n",
       "      <th></th>\n",
       "      <th></th>\n",
       "      <th></th>\n",
       "      <th></th>\n",
       "      <th></th>\n",
       "      <th></th>\n",
       "      <th></th>\n",
       "      <th></th>\n",
       "      <th></th>\n",
       "      <th></th>\n",
       "      <th></th>\n",
       "      <th></th>\n",
       "      <th></th>\n",
       "      <th></th>\n",
       "      <th></th>\n",
       "      <th></th>\n",
       "    </tr>\n",
       "  </thead>\n",
       "  <tbody>\n",
       "    <tr>\n",
       "      <th>1</th>\n",
       "      <td>0.114155</td>\n",
       "      <td>2.4</td>\n",
       "      <td>12</td>\n",
       "      <td>4</td>\n",
       "      <td>52.8</td>\n",
       "      <td>0.2</td>\n",
       "      <td>12</td>\n",
       "      <td>1.369863</td>\n",
       "      <td>0.342466</td>\n",
       "      <td>6.027397</td>\n",
       "      <td>0.502283</td>\n",
       "      <td>0.023199</td>\n",
       "      <td>6.526361</td>\n",
       "      <td>0.055086</td>\n",
       "      <td>3.778654</td>\n",
       "      <td>11.912974</td>\n",
       "      <td>1.170411</td>\n",
       "      <td>2.455076</td>\n",
       "    </tr>\n",
       "    <tr>\n",
       "      <th>2</th>\n",
       "      <td>0.114155</td>\n",
       "      <td>2.4</td>\n",
       "      <td>12</td>\n",
       "      <td>4</td>\n",
       "      <td>52.8</td>\n",
       "      <td>0.2</td>\n",
       "      <td>10</td>\n",
       "      <td>1.369863</td>\n",
       "      <td>0.342466</td>\n",
       "      <td>6.027397</td>\n",
       "      <td>0.602740</td>\n",
       "      <td>0.103794</td>\n",
       "      <td>8.966441</td>\n",
       "      <td>0.063771</td>\n",
       "      <td>4.035329</td>\n",
       "      <td>12.487194</td>\n",
       "      <td>1.170411</td>\n",
       "      <td>2.455076</td>\n",
       "    </tr>\n",
       "    <tr>\n",
       "      <th>3</th>\n",
       "      <td>0.114155</td>\n",
       "      <td>2.4</td>\n",
       "      <td>12</td>\n",
       "      <td>4</td>\n",
       "      <td>52.8</td>\n",
       "      <td>0.2</td>\n",
       "      <td>9</td>\n",
       "      <td>1.369863</td>\n",
       "      <td>0.342466</td>\n",
       "      <td>6.027397</td>\n",
       "      <td>0.669711</td>\n",
       "      <td>0.200133</td>\n",
       "      <td>11.480445</td>\n",
       "      <td>0.080531</td>\n",
       "      <td>4.507946</td>\n",
       "      <td>13.475060</td>\n",
       "      <td>1.170411</td>\n",
       "      <td>2.455076</td>\n",
       "    </tr>\n",
       "    <tr>\n",
       "      <th>4</th>\n",
       "      <td>0.114155</td>\n",
       "      <td>2.4</td>\n",
       "      <td>12</td>\n",
       "      <td>3</td>\n",
       "      <td>52.8</td>\n",
       "      <td>0.2</td>\n",
       "      <td>12</td>\n",
       "      <td>1.369863</td>\n",
       "      <td>0.456621</td>\n",
       "      <td>6.027397</td>\n",
       "      <td>0.502283</td>\n",
       "      <td>0.023199</td>\n",
       "      <td>6.526361</td>\n",
       "      <td>0.165820</td>\n",
       "      <td>5.224348</td>\n",
       "      <td>11.254823</td>\n",
       "      <td>1.170411</td>\n",
       "      <td>2.455076</td>\n",
       "    </tr>\n",
       "    <tr>\n",
       "      <th>5</th>\n",
       "      <td>0.114155</td>\n",
       "      <td>2.4</td>\n",
       "      <td>12</td>\n",
       "      <td>3</td>\n",
       "      <td>52.8</td>\n",
       "      <td>0.2</td>\n",
       "      <td>10</td>\n",
       "      <td>1.369863</td>\n",
       "      <td>0.456621</td>\n",
       "      <td>6.027397</td>\n",
       "      <td>0.602740</td>\n",
       "      <td>0.103794</td>\n",
       "      <td>8.966441</td>\n",
       "      <td>0.182374</td>\n",
       "      <td>5.596022</td>\n",
       "      <td>11.723960</td>\n",
       "      <td>1.170411</td>\n",
       "      <td>2.455076</td>\n",
       "    </tr>\n",
       "    <tr>\n",
       "      <th>...</th>\n",
       "      <td>...</td>\n",
       "      <td>...</td>\n",
       "      <td>...</td>\n",
       "      <td>...</td>\n",
       "      <td>...</td>\n",
       "      <td>...</td>\n",
       "      <td>...</td>\n",
       "      <td>...</td>\n",
       "      <td>...</td>\n",
       "      <td>...</td>\n",
       "      <td>...</td>\n",
       "      <td>...</td>\n",
       "      <td>...</td>\n",
       "      <td>...</td>\n",
       "      <td>...</td>\n",
       "      <td>...</td>\n",
       "      <td>...</td>\n",
       "      <td>...</td>\n",
       "    </tr>\n",
       "    <tr>\n",
       "      <th>131</th>\n",
       "      <td>1.027397</td>\n",
       "      <td>2.4</td>\n",
       "      <td>12</td>\n",
       "      <td>16</td>\n",
       "      <td>55.2</td>\n",
       "      <td>0.3</td>\n",
       "      <td>81</td>\n",
       "      <td>12.328767</td>\n",
       "      <td>0.770548</td>\n",
       "      <td>56.712329</td>\n",
       "      <td>0.700152</td>\n",
       "      <td>0.001506</td>\n",
       "      <td>1.820706</td>\n",
       "      <td>0.192386</td>\n",
       "      <td>2.251719</td>\n",
       "      <td>11.568722</td>\n",
       "      <td>3.511234</td>\n",
       "      <td>7.530759</td>\n",
       "    </tr>\n",
       "    <tr>\n",
       "      <th>132</th>\n",
       "      <td>1.027397</td>\n",
       "      <td>2.4</td>\n",
       "      <td>12</td>\n",
       "      <td>16</td>\n",
       "      <td>55.2</td>\n",
       "      <td>0.3</td>\n",
       "      <td>78</td>\n",
       "      <td>12.328767</td>\n",
       "      <td>0.770548</td>\n",
       "      <td>56.712329</td>\n",
       "      <td>0.727081</td>\n",
       "      <td>0.004643</td>\n",
       "      <td>2.002911</td>\n",
       "      <td>0.192743</td>\n",
       "      <td>2.254091</td>\n",
       "      <td>11.572050</td>\n",
       "      <td>3.511234</td>\n",
       "      <td>7.530759</td>\n",
       "    </tr>\n",
       "    <tr>\n",
       "      <th>133</th>\n",
       "      <td>1.027397</td>\n",
       "      <td>2.4</td>\n",
       "      <td>12</td>\n",
       "      <td>15</td>\n",
       "      <td>55.2</td>\n",
       "      <td>0.3</td>\n",
       "      <td>86</td>\n",
       "      <td>12.328767</td>\n",
       "      <td>0.821918</td>\n",
       "      <td>56.712329</td>\n",
       "      <td>0.659446</td>\n",
       "      <td>0.000186</td>\n",
       "      <td>1.601265</td>\n",
       "      <td>0.263786</td>\n",
       "      <td>2.641570</td>\n",
       "      <td>11.303399</td>\n",
       "      <td>3.511234</td>\n",
       "      <td>7.530759</td>\n",
       "    </tr>\n",
       "    <tr>\n",
       "      <th>134</th>\n",
       "      <td>1.027397</td>\n",
       "      <td>2.4</td>\n",
       "      <td>12</td>\n",
       "      <td>15</td>\n",
       "      <td>55.2</td>\n",
       "      <td>0.3</td>\n",
       "      <td>81</td>\n",
       "      <td>12.328767</td>\n",
       "      <td>0.821918</td>\n",
       "      <td>56.712329</td>\n",
       "      <td>0.700152</td>\n",
       "      <td>0.001506</td>\n",
       "      <td>1.820706</td>\n",
       "      <td>0.263931</td>\n",
       "      <td>2.642607</td>\n",
       "      <td>11.304452</td>\n",
       "      <td>3.511234</td>\n",
       "      <td>7.530759</td>\n",
       "    </tr>\n",
       "    <tr>\n",
       "      <th>135</th>\n",
       "      <td>1.027397</td>\n",
       "      <td>2.4</td>\n",
       "      <td>12</td>\n",
       "      <td>15</td>\n",
       "      <td>55.2</td>\n",
       "      <td>0.3</td>\n",
       "      <td>78</td>\n",
       "      <td>12.328767</td>\n",
       "      <td>0.821918</td>\n",
       "      <td>56.712329</td>\n",
       "      <td>0.727081</td>\n",
       "      <td>0.004643</td>\n",
       "      <td>2.002911</td>\n",
       "      <td>0.264321</td>\n",
       "      <td>2.645389</td>\n",
       "      <td>11.307276</td>\n",
       "      <td>3.511234</td>\n",
       "      <td>7.530759</td>\n",
       "    </tr>\n",
       "  </tbody>\n",
       "</table>\n",
       "<p>135 rows × 18 columns</p>\n",
       "</div>"
      ],
      "text/plain": [
       "          arrival_rate  mean_los_obs  mean_los_ldr  cap_ldr  mean_los_pp  \\\n",
       "scenario                                                                   \n",
       "1             0.114155           2.4            12        4         52.8   \n",
       "2             0.114155           2.4            12        4         52.8   \n",
       "3             0.114155           2.4            12        4         52.8   \n",
       "4             0.114155           2.4            12        3         52.8   \n",
       "5             0.114155           2.4            12        3         52.8   \n",
       "...                ...           ...           ...      ...          ...   \n",
       "131           1.027397           2.4            12       16         55.2   \n",
       "132           1.027397           2.4            12       16         55.2   \n",
       "133           1.027397           2.4            12       15         55.2   \n",
       "134           1.027397           2.4            12       15         55.2   \n",
       "135           1.027397           2.4            12       15         55.2   \n",
       "\n",
       "          c_sect_prob  cap_pp   load_ldr   rho_ldr    load_pp    rho_pp  \\\n",
       "scenario                                                                  \n",
       "1                 0.2      12   1.369863  0.342466   6.027397  0.502283   \n",
       "2                 0.2      10   1.369863  0.342466   6.027397  0.602740   \n",
       "3                 0.2       9   1.369863  0.342466   6.027397  0.669711   \n",
       "4                 0.2      12   1.369863  0.456621   6.027397  0.502283   \n",
       "5                 0.2      10   1.369863  0.456621   6.027397  0.602740   \n",
       "...               ...     ...        ...       ...        ...       ...   \n",
       "131               0.3      81  12.328767  0.770548  56.712329  0.700152   \n",
       "132               0.3      78  12.328767  0.770548  56.712329  0.727081   \n",
       "133               0.3      86  12.328767  0.821918  56.712329  0.659446   \n",
       "134               0.3      81  12.328767  0.821918  56.712329  0.700152   \n",
       "135               0.3      78  12.328767  0.821918  56.712329  0.727081   \n",
       "\n",
       "          prob_blockedby_pp_approx  condmeantime_blockedbypp_approx  \\\n",
       "scenario                                                              \n",
       "1                         0.023199                         6.526361   \n",
       "2                         0.103794                         8.966441   \n",
       "3                         0.200133                        11.480445   \n",
       "4                         0.023199                         6.526361   \n",
       "5                         0.103794                         8.966441   \n",
       "...                            ...                              ...   \n",
       "131                       0.001506                         1.820706   \n",
       "132                       0.004643                         2.002911   \n",
       "133                       0.000186                         1.601265   \n",
       "134                       0.001506                         1.820706   \n",
       "135                       0.004643                         2.002911   \n",
       "\n",
       "          prob_blockedby_ldr_approx  condmeantime_blockedbyldr_approx  \\\n",
       "scenario                                                                \n",
       "1                          0.055086                          3.778654   \n",
       "2                          0.063771                          4.035329   \n",
       "3                          0.080531                          4.507946   \n",
       "4                          0.165820                          5.224348   \n",
       "5                          0.182374                          5.596022   \n",
       "...                             ...                               ...   \n",
       "131                        0.192386                          2.251719   \n",
       "132                        0.192743                          2.254091   \n",
       "133                        0.263786                          2.641570   \n",
       "134                        0.263931                          2.642607   \n",
       "135                        0.264321                          2.645389   \n",
       "\n",
       "          ldr_effmean_svctime_approx  sqrt_load_ldr  sqrt_load_pp  \n",
       "scenario                                                           \n",
       "1                          11.912974       1.170411      2.455076  \n",
       "2                          12.487194       1.170411      2.455076  \n",
       "3                          13.475060       1.170411      2.455076  \n",
       "4                          11.254823       1.170411      2.455076  \n",
       "5                          11.723960       1.170411      2.455076  \n",
       "...                              ...            ...           ...  \n",
       "131                        11.568722       3.511234      7.530759  \n",
       "132                        11.572050       3.511234      7.530759  \n",
       "133                        11.303399       3.511234      7.530759  \n",
       "134                        11.304452       3.511234      7.530759  \n",
       "135                        11.307276       3.511234      7.530759  \n",
       "\n",
       "[135 rows x 18 columns]"
      ]
     },
     "execution_count": 27,
     "metadata": {},
     "output_type": "execute_result"
    }
   ],
   "source": [
    "X_ldr_q"
   ]
  },
  {
   "cell_type": "code",
   "execution_count": 20,
   "id": "df598f90-a18c-4593-90c3-d7206e7e5a96",
   "metadata": {},
   "outputs": [
    {
     "data": {
      "text/html": [
       "<div>\n",
       "<style scoped>\n",
       "    .dataframe tbody tr th:only-of-type {\n",
       "        vertical-align: middle;\n",
       "    }\n",
       "\n",
       "    .dataframe tbody tr th {\n",
       "        vertical-align: top;\n",
       "    }\n",
       "\n",
       "    .dataframe thead th {\n",
       "        text-align: right;\n",
       "    }\n",
       "</style>\n",
       "<table border=\"1\" class=\"dataframe\">\n",
       "  <thead>\n",
       "    <tr style=\"text-align: right;\">\n",
       "      <th></th>\n",
       "      <th>intercept</th>\n",
       "      <th>ldr_eff_load</th>\n",
       "    </tr>\n",
       "  </thead>\n",
       "  <tbody>\n",
       "    <tr>\n",
       "      <th>0</th>\n",
       "      <td>0.007801</td>\n",
       "      <td>0.998637</td>\n",
       "    </tr>\n",
       "    <tr>\n",
       "      <th>1</th>\n",
       "      <td>0.007822</td>\n",
       "      <td>0.998633</td>\n",
       "    </tr>\n",
       "    <tr>\n",
       "      <th>2</th>\n",
       "      <td>0.007268</td>\n",
       "      <td>0.998716</td>\n",
       "    </tr>\n",
       "    <tr>\n",
       "      <th>3</th>\n",
       "      <td>0.008024</td>\n",
       "      <td>0.998601</td>\n",
       "    </tr>\n",
       "    <tr>\n",
       "      <th>4</th>\n",
       "      <td>0.007461</td>\n",
       "      <td>0.998712</td>\n",
       "    </tr>\n",
       "  </tbody>\n",
       "</table>\n",
       "</div>"
      ],
      "text/plain": [
       "   intercept  ldr_eff_load\n",
       "0   0.007801      0.998637\n",
       "1   0.007822      0.998633\n",
       "2   0.007268      0.998716\n",
       "3   0.008024      0.998601\n",
       "4   0.007461      0.998712"
      ]
     },
     "execution_count": 20,
     "metadata": {},
     "output_type": "execute_result"
    }
   ],
   "source": [
    "ldr_occmean_onlyq_lm_results = crossval_summarize_mm('ldr_occmean_onlyq_lm', \n",
    "                                                      'ldr', 'occ_mean', X_ldr_occmean_onlyq, y_ldr_occ_mean, \n",
    "                                                      scale=False, flavor='lm', fit_intercept=True)\n",
    "ldr_occmean_onlyq_lm_results['coeffs_df']"
   ]
  },
  {
   "cell_type": "code",
   "execution_count": 21,
   "id": "de5ed10b-e9dd-4b70-a4d1-086029d91f35",
   "metadata": {},
   "outputs": [
    {
     "data": {
      "text/html": [
       "<div>\n",
       "<style scoped>\n",
       "    .dataframe tbody tr th:only-of-type {\n",
       "        vertical-align: middle;\n",
       "    }\n",
       "\n",
       "    .dataframe tbody tr th {\n",
       "        vertical-align: top;\n",
       "    }\n",
       "\n",
       "    .dataframe thead th {\n",
       "        text-align: right;\n",
       "    }\n",
       "</style>\n",
       "<table border=\"1\" class=\"dataframe\">\n",
       "  <thead>\n",
       "    <tr style=\"text-align: right;\">\n",
       "      <th></th>\n",
       "      <th>intercept</th>\n",
       "      <th>ldr_eff_load</th>\n",
       "      <th>ldr_eff_sqrtload</th>\n",
       "    </tr>\n",
       "  </thead>\n",
       "  <tbody>\n",
       "    <tr>\n",
       "      <th>0</th>\n",
       "      <td>0.083236</td>\n",
       "      <td>1.002740</td>\n",
       "      <td>1.220795</td>\n",
       "    </tr>\n",
       "    <tr>\n",
       "      <th>1</th>\n",
       "      <td>0.270803</td>\n",
       "      <td>1.022615</td>\n",
       "      <td>1.095280</td>\n",
       "    </tr>\n",
       "    <tr>\n",
       "      <th>2</th>\n",
       "      <td>0.379617</td>\n",
       "      <td>1.052479</td>\n",
       "      <td>0.990791</td>\n",
       "    </tr>\n",
       "    <tr>\n",
       "      <th>3</th>\n",
       "      <td>0.286764</td>\n",
       "      <td>1.051715</td>\n",
       "      <td>1.031384</td>\n",
       "    </tr>\n",
       "    <tr>\n",
       "      <th>4</th>\n",
       "      <td>0.300383</td>\n",
       "      <td>1.041598</td>\n",
       "      <td>1.049147</td>\n",
       "    </tr>\n",
       "  </tbody>\n",
       "</table>\n",
       "</div>"
      ],
      "text/plain": [
       "   intercept  ldr_eff_load  ldr_eff_sqrtload\n",
       "0   0.083236      1.002740          1.220795\n",
       "1   0.270803      1.022615          1.095280\n",
       "2   0.379617      1.052479          0.990791\n",
       "3   0.286764      1.051715          1.031384\n",
       "4   0.300383      1.041598          1.049147"
      ]
     },
     "execution_count": 21,
     "metadata": {},
     "output_type": "execute_result"
    }
   ],
   "source": [
    "ldr_occp95_onlyq_lm_results = crossval_summarize_mm('ldr_occp95_onlyq_lm', \n",
    "                                                      'ldr', 'occ_mean', X_ldr_occp95_onlyq, y_ldr_occ_p95, \n",
    "                                                      scale=False, flavor='lm', fit_intercept=True)\n",
    "ldr_occp95_onlyq_lm_results['coeffs_df']"
   ]
  },
  {
   "cell_type": "code",
   "execution_count": 22,
   "id": "527e97d2-b934-443d-af24-349a7308ebf2",
   "metadata": {},
   "outputs": [
    {
     "data": {
      "text/html": [
       "<div>\n",
       "<style scoped>\n",
       "    .dataframe tbody tr th:only-of-type {\n",
       "        vertical-align: middle;\n",
       "    }\n",
       "\n",
       "    .dataframe tbody tr th {\n",
       "        vertical-align: top;\n",
       "    }\n",
       "\n",
       "    .dataframe thead th {\n",
       "        text-align: right;\n",
       "    }\n",
       "</style>\n",
       "<table border=\"1\" class=\"dataframe\">\n",
       "  <thead>\n",
       "    <tr style=\"text-align: right;\">\n",
       "      <th></th>\n",
       "      <th>intercept</th>\n",
       "      <th>prob_blockedby_pp_approx</th>\n",
       "    </tr>\n",
       "  </thead>\n",
       "  <tbody>\n",
       "    <tr>\n",
       "      <th>0</th>\n",
       "      <td>0.176908</td>\n",
       "      <td>0.648299</td>\n",
       "    </tr>\n",
       "    <tr>\n",
       "      <th>1</th>\n",
       "      <td>0.174240</td>\n",
       "      <td>0.491866</td>\n",
       "    </tr>\n",
       "    <tr>\n",
       "      <th>2</th>\n",
       "      <td>0.178814</td>\n",
       "      <td>0.321788</td>\n",
       "    </tr>\n",
       "    <tr>\n",
       "      <th>3</th>\n",
       "      <td>0.184058</td>\n",
       "      <td>0.252376</td>\n",
       "    </tr>\n",
       "    <tr>\n",
       "      <th>4</th>\n",
       "      <td>0.178769</td>\n",
       "      <td>0.399779</td>\n",
       "    </tr>\n",
       "  </tbody>\n",
       "</table>\n",
       "</div>"
      ],
      "text/plain": [
       "   intercept  prob_blockedby_pp_approx\n",
       "0   0.176908                  0.648299\n",
       "1   0.174240                  0.491866\n",
       "2   0.178814                  0.321788\n",
       "3   0.184058                  0.252376\n",
       "4   0.178769                  0.399779"
      ]
     },
     "execution_count": 22,
     "metadata": {},
     "output_type": "execute_result"
    }
   ],
   "source": [
    "ldr_prob_blockedby_pp_onlyq_lm_results = crossval_summarize_mm('X_ldr_prob_blockedby_pp_onlyq_lm', \n",
    "                                                      'ldr', 'pct_blocked', X_ldr_prob_blockedby_pp_onlyq, y_mean_pct_blocked_by_pp, \n",
    "                                                      scale=False, flavor='lm', fit_intercept=True)\n",
    "ldr_prob_blockedby_pp_onlyq_lm_results['coeffs_df']"
   ]
  },
  {
   "cell_type": "code",
   "execution_count": 23,
   "id": "2300c454-e0da-4914-9475-27dff2eb636d",
   "metadata": {},
   "outputs": [
    {
     "data": {
      "image/png": "[encoded data removed]",
      "text/plain": [
       "<Figure size 432x288 with 1 Axes>"
      ]
     },
     "execution_count": 23,
     "metadata": {},
     "output_type": "execute_result"
    }
   ],
   "source": [
    "ldr_prob_blockedby_pp_onlyq_lm_results['fitplot']"
   ]
  },
  {
   "cell_type": "code",
   "execution_count": null,
   "id": "a95548dd-5c97-4639-99e1-0bec6e6371d8",
   "metadata": {},
   "outputs": [],
   "source": []
  },
  {
   "cell_type": "code",
   "execution_count": null,
   "id": "317e0c67-cab0-4485-9fea-47f3c43a0762",
   "metadata": {},
   "outputs": [],
   "source": [
    "ldr_occ_mean_basicq_lm_results = results['ldr_occ_mean_basicq_lm_results']"
   ]
  },
  {
   "cell_type": "code",
   "execution_count": null,
   "id": "55c5f98f-4763-45de-8844-170e96927a78",
   "metadata": {},
   "outputs": [],
   "source": [
    "ldr_occ_mean_basicq_lm_results.keys()"
   ]
  },
  {
   "cell_type": "code",
   "execution_count": null,
   "id": "a1214134-6545-4777-9aef-2cf4f96b51b8",
   "metadata": {},
   "outputs": [],
   "source": [
    "plt.plot(ldr_occ_mean_basicq_lm_results['residuals'])"
   ]
  },
  {
   "cell_type": "code",
   "execution_count": null,
   "id": "ac1230c1-bf3d-416e-b1ec-64b65ceefb36",
   "metadata": {},
   "outputs": [],
   "source": [
    "data_path = \"data\"\n",
    "experiment = \"exp11\""
   ]
  },
  {
   "cell_type": "code",
   "execution_count": null,
   "id": "990a95c2-9cfd-43bb-86d5-e9db5cdfe677",
   "metadata": {},
   "outputs": [],
   "source": [
    "X_pp_basicq = pd.read_csv(Path(data_path, f'X_pp_basicq_{experiment}.csv'), index_col=0)"
   ]
  },
  {
   "cell_type": "code",
   "execution_count": null,
   "id": "32090ca5-2bd2-4591-bf83-6624dd227769",
   "metadata": {},
   "outputs": [],
   "source": [
    "X_pp_basicq.info()"
   ]
  },
  {
   "cell_type": "markdown",
   "id": "ee134185-c92d-4ad8-8128-942370d8af7b",
   "metadata": {},
   "source": [
    "Several models perform really poorly on the infinite capacity scenarios. Not surprising since they correspond to rho values much lower than for the vast majority of the scenarios.\n",
    "\n",
    "Seems like we should run an experiment with a more uniform range of rho values."
   ]
  },
  {
   "cell_type": "code",
   "execution_count": null,
   "id": "4784abd9-4f2d-4bd1-82a2-dd487cc849d7",
   "metadata": {},
   "outputs": [],
   "source": [
    "plt.scatter(X_pp_basicq.index, X_pp_basicq['rho_pp'])"
   ]
  },
  {
   "cell_type": "code",
   "execution_count": null,
   "id": "7e76cea7-8a3a-4bc8-98b3-4e295cf0fe7b",
   "metadata": {},
   "outputs": [],
   "source": [
    "siminout_qng_path = Path(\"data\", \"raw\", \"scenario_siminout_qng_exp11.csv\")\n",
    "xy_df = pd.read_csv(siminout_qng_path, index_col=0)"
   ]
  },
  {
   "cell_type": "code",
   "execution_count": null,
   "id": "11eef963-5efb-4385-a853-4249622537e9",
   "metadata": {},
   "outputs": [],
   "source": [
    "X_pp_noq_cols = ['arrival_rate', 'mean_los_pp',\n",
    "                     'c_sect_prob', 'cap_pp']"
   ]
  },
  {
   "cell_type": "code",
   "execution_count": null,
   "id": "13bd9e7f-77e7-4e83-bac6-ebd969216bd6",
   "metadata": {},
   "outputs": [],
   "source": [
    "xy_df.loc[:, X_pp_noq_cols]"
   ]
  },
  {
   "cell_type": "code",
   "execution_count": null,
   "id": "fc3e8a3e-4edd-467c-b96b-39de8c7d5407",
   "metadata": {},
   "outputs": [],
   "source": [
    "int('2')"
   ]
  },
  {
   "cell_type": "markdown",
   "id": "aba8872a-e13e-47e5-9bf2-2f109e7b02de",
   "metadata": {},
   "source": [
    "## Debugging obs poly model fits\n",
    "They are way off. What's wrong."
   ]
  },
  {
   "cell_type": "code",
   "execution_count": null,
   "id": "47738a71-0be6-44d9-a58a-43eef90891e7",
   "metadata": {},
   "outputs": [],
   "source": [
    "\n",
    "\n",
    "figures_path = Path(\"output\", \"figures\", \"exp11\", \"exp11_obs_obs_occ_mean_q_poly_cv_scatter.png\")\n",
    "Image(filename=figures_path) "
   ]
  },
  {
   "cell_type": "code",
   "execution_count": null,
   "id": "4ea1f39a-9f8d-4db8-a290-1ca19a75252a",
   "metadata": {},
   "outputs": [],
   "source": [
    "figures_path = Path(\"output\", \"figures\", \"exp11\", \"exp11_obs_obs_occ_p95_q_poly_cv_scatter.png\")\n",
    "Image(filename=figures_path) "
   ]
  },
  {
   "cell_type": "code",
   "execution_count": null,
   "id": "c049de34-6e5e-4dc4-aa07-46fad425a783",
   "metadata": {},
   "outputs": [],
   "source": [
    "figures_path = Path(\"output\", \"figures\", \"exp11\", \"exp11_obs_obs_occ_mean_basicq_poly_cv_scatter.png\")\n",
    "Image(filename=figures_path) "
   ]
  },
  {
   "cell_type": "code",
   "execution_count": null,
   "id": "b813069e-4d90-49fb-a031-e2dca4a93a8a",
   "metadata": {},
   "outputs": [],
   "source": [
    "figures_path = Path(\"output\", \"figures\", \"exp11\", \"exp11_obs_obs_occ_p95_basicq_poly_cv_scatter.png\")\n",
    "Image(filename=figures_path) "
   ]
  },
  {
   "cell_type": "code",
   "execution_count": null,
   "id": "25f808f0-992c-4744-8c4f-67374eeafa45",
   "metadata": {},
   "outputs": [],
   "source": [
    "experiment = \"exp11\"\n",
    "data_path = Path(\"data\")\n",
    "output_path = Path(\"output\")\n",
    "\n",
    "raw_data_path = Path(\"data\", \"raw\")\n",
    "pickle_filename = f\"obs_results1_{experiment}.pkl\"\n",
    "\n",
    "# X matrices\n",
    "X_obs_noq = pd.read_csv(Path(data_path, f'X_obs_noq_{experiment}.csv'), index_col=0)\n",
    "X_obs_basicq = pd.read_csv(Path(data_path, f'X_obs_basicq_{experiment}.csv'), index_col=0)\n",
    "X_obs_q = pd.read_csv(Path(data_path, f'X_obs_q_{experiment}.csv'), index_col=0)\n",
    "\n",
    "# y vectors\n",
    "y_obs_occ_mean = pd.read_csv(Path(data_path, f'y_obs_occ_mean_{experiment}.csv'), index_col=0, squeeze=True)\n",
    "y_obs_occ_p95 = pd.read_csv(Path(data_path, f'y_obs_occ_p95_{experiment}.csv'), index_col=0, squeeze=True)\n",
    "y_mean_pct_blocked_by_ldr = pd.read_csv(Path(data_path, f'y_mean_pct_blocked_by_ldr_{experiment}.csv'), index_col=0, squeeze=True)\n",
    "y_condmeantime_blockedbyldr = pd.read_csv(Path(data_path, f'y_condmeantime_blockedbyldr_{experiment}.csv'), index_col=0, squeeze=True)\n"
   ]
  },
  {
   "cell_type": "code",
   "execution_count": null,
   "id": "5090cfda-09fd-441c-8566-667bdef5aeb2",
   "metadata": {},
   "outputs": [],
   "source": [
    "obs_occ_mean_basicq_poly_results = \\\n",
    "    crossval_summarize_mm('obs_occ_mean_basicq_poly', 'obs', 'occ_mean',\n",
    "                          X_obs_basicq, y_obs_occ_mean, scale=False, flavor='poly')"
   ]
  },
  {
   "cell_type": "code",
   "execution_count": null,
   "id": "f3e2352a-d7ca-485d-bb65-c6be8b382c52",
   "metadata": {},
   "outputs": [],
   "source": [
    "plt.plot(obs_occ_mean_basicq_poly_results['residuals'])"
   ]
  },
  {
   "cell_type": "code",
   "execution_count": null,
   "id": "96125f2a-bb12-4523-8495-ae5fce14fbb1",
   "metadata": {},
   "outputs": [],
   "source": [
    "obs_occ_mean_q_poly_results = \\\n",
    "    crossval_summarize_mm('obs_occ_mean_q_poly', 'obs', 'occ_mean',\n",
    "                          X_obs_q, y_obs_occ_mean, scale=False, flavor='poly')"
   ]
  },
  {
   "cell_type": "code",
   "execution_count": null,
   "id": "3d8c1d63-869e-4a2a-9bab-dc4080578dc8",
   "metadata": {},
   "outputs": [],
   "source": [
    "plt.plot(obs_occ_mean_basicq_poly_results['predictions'])"
   ]
  },
  {
   "cell_type": "code",
   "execution_count": null,
   "id": "3c04a79d-5a11-4e3b-a7d7-c8b12c1db6dc",
   "metadata": {},
   "outputs": [],
   "source": [
    "obs_occ_mean_basicq_poly_results.keys()"
   ]
  },
  {
   "cell_type": "code",
   "execution_count": null,
   "id": "ad0e9a5f-e119-402e-b1b4-a692e330dd7a",
   "metadata": {},
   "outputs": [],
   "source": [
    "obs_occ_mean_basicq_poly_results['coeffs_df']"
   ]
  },
  {
   "cell_type": "code",
   "execution_count": null,
   "id": "fa91bf90-1eb0-472f-a0b9-b2487300a228",
   "metadata": {},
   "outputs": [],
   "source": [
    "plt.plot(obs_occ_mean_q_poly_results['predictions'])"
   ]
  },
  {
   "cell_type": "code",
   "execution_count": null,
   "id": "e09c8e18-33f4-40d7-8c2a-0c497dd0d9ec",
   "metadata": {},
   "outputs": [],
   "source": []
  }
 ],
 "metadata": {
  "kernelspec": {
   "display_name": "Python [conda env:analytics]",
   "language": "python",
   "name": "conda-env-analytics-py"
  },
  "language_info": {
   "codemirror_mode": {
    "name": "ipython",
    "version": 3
   },
   "file_extension": ".py",
   "mimetype": "text/x-python",
   "name": "python",
   "nbconvert_exporter": "python",
   "pygments_lexer": "ipython3",
   "version": "3.8.11"
  }
 },
 "nbformat": 4,
 "nbformat_minor": 5
}
