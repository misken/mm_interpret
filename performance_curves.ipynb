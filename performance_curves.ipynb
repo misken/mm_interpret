{
 "cells": [
  {
   "cell_type": "markdown",
   "id": "1888a5f5-4f6f-4c32-a727-c1bc41a60883",
   "metadata": {},
   "source": [
    "## Creating performance curves\n",
    "\n",
    "The following is the MIT Review article and the original on using neural nets to solve PDEs. What's relevant here is that they used the physics insight that they should Fourier transform the inputs.\n",
    "\n",
    "https://www.technologyreview.com/2020/10/30/1011435/ai-fourier-neural-network-cracks-navier-stokes-and-partial-differential-equations/\n",
    "\n",
    "https://arxiv.org/abs/2010.08895"
   ]
  },
  {
   "cell_type": "code",
   "execution_count": 1,
   "id": "8733d359-e199-4af6-9ae4-e5fa05d625b4",
   "metadata": {},
   "outputs": [],
   "source": [
    "%load_ext autoreload\n",
    "%autoreload 2"
   ]
  },
  {
   "cell_type": "code",
   "execution_count": 2,
   "id": "933c3676-f23f-4217-aa19-ddcb83701241",
   "metadata": {},
   "outputs": [],
   "source": [
    "import numpy as np\n",
    "import pandas as pd\n",
    "import matplotlib.pyplot as plt\n",
    "import seaborn as sns\n",
    "import math\n",
    "from pathlib import Path\n",
    "import pickle\n",
    "import itertools\n",
    "\n",
    "import qng\n",
    "import obnetwork2"
   ]
  },
  {
   "cell_type": "code",
   "execution_count": 3,
   "id": "dc882abe-5840-4620-9e30-1841f56a158e",
   "metadata": {},
   "outputs": [],
   "source": [
    "%matplotlib inline"
   ]
  },
  {
   "cell_type": "markdown",
   "id": "d97fbdf2-3140-4596-a923-3b9236524164",
   "metadata": {},
   "source": [
    "## Data reading and prep"
   ]
  },
  {
   "cell_type": "code",
   "execution_count": 4,
   "id": "97eaa1d4-0f2c-4067-ba01-3600fdd8adb7",
   "metadata": {},
   "outputs": [],
   "source": [
    "obsim_mm_means_df = pd.read_csv('../analysis_exp9_tandem05_nodischadj/mmdata/obsim_mm_means_df.csv', index_col=0)"
   ]
  },
  {
   "cell_type": "markdown",
   "id": "328e696c-ba09-4246-81f6-e4f000135669",
   "metadata": {},
   "source": [
    "Create lists of columns for subsetting the main dataframe using only relevant modeling columns for each unit. Then use these lists to create the various X dataframes."
   ]
  },
  {
   "cell_type": "code",
   "execution_count": 5,
   "id": "544090c7-bd2c-4c14-8240-8bb335e63f51",
   "metadata": {},
   "outputs": [],
   "source": [
    "# Define which columns are in which matrices starting with no queueing vars\n",
    "X_pp_noq_cols = ['lam_obs', 'alos_pp', 'alos_pp_noc', 'alos_pp_c',\n",
    "                 'tot_c_rate', 'cap_pp']\n",
    "\n",
    "X_ldr_noq_cols = ['lam_obs', 'alos_obs', 'alos_ldr', 'cap_ldr',\n",
    "                  'alos_pp', 'alos_pp_noc', 'alos_pp_c',\n",
    "                  'tot_c_rate', 'cap_pp']\n",
    "\n",
    "X_obs_noq_cols = ['lam_obs', 'alos_obs', 'cap_obs', 'alos_ldr', 'cap_ldr',\n",
    "                  'alos_pp', 'alos_pp_noc', 'alos_pp_c',\n",
    "                  'tot_c_rate', 'cap_pp']\n",
    "\n",
    "# For \"basicq\" matrices, only load and rho variables are added\n",
    "X_pp_basicq_cols = X_pp_noq_cols.copy()\n",
    "X_pp_basicq_cols.extend(['load_pp', 'rho_pp'])\n",
    "\n",
    "X_ldr_basicq_cols = X_ldr_noq_cols.copy()\n",
    "X_ldr_basicq_cols.extend(['load_ldr', 'rho_ldr', 'load_pp', 'rho_pp'])\n",
    "\n",
    "X_obs_basicq_cols = X_obs_noq_cols.copy()\n",
    "X_obs_basicq_cols.extend(['load_obs', 'rho_obs', 'load_ldr',\n",
    "                          'rho_ldr', 'load_pp', 'rho_pp'])\n",
    "\n",
    "# For \"q\" matrices, include additional queueing approximations (not applicable\n",
    "# to PP since unaffected by upstream unit and has no downstream unit\n",
    "\n",
    "# LDR can have LOS shortened by patients blocked in OBS and have LOS lengthened\n",
    "# by patients blocked in LDR by PP\n",
    "X_ldr_q_cols = X_ldr_basicq_cols.copy()\n",
    "X_ldr_q_cols.extend(['prob_blockedby_pp_approx', 'condmeantime_blockedbypp_approx',\n",
    "                     'prob_blockedby_ldr_approx', 'condmeantime_blockedbyldr_approx',\n",
    "                     'ldr_effmean_svctime_approx'])\n",
    "\n",
    "# OBS modeled as infinite capacity system but time in system impacted by\n",
    "# congestion in the downstream units.\n",
    "X_obs_q_cols = X_obs_basicq_cols.copy()\n",
    "X_obs_q_cols.extend(['prob_blockedby_pp_approx', 'condmeantime_blockedbypp_approx',\n",
    "                     'prob_blockedby_ldr_approx', 'condmeantime_blockedbyldr_approx',\n",
    "                     'ldr_effmean_svctime_approx'])\n",
    "\n",
    "\n",
    "# Create dataframes based on the column specs above\n",
    "X_pp_noq = obsim_mm_means_df.loc[:, X_pp_noq_cols]\n",
    "X_ldr_noq = obsim_mm_means_df.loc[:, X_ldr_noq_cols]\n",
    "X_obs_noq = obsim_mm_means_df.loc[:, X_obs_noq_cols]\n",
    "\n",
    "# PP\n",
    "X_pp_basicq = obsim_mm_means_df.loc[:, X_pp_basicq_cols]\n",
    "X_pp_basicq['sqrt_load_pp'] = X_pp_basicq['load_pp'] ** 0.5\n",
    "\n",
    "# LDR\n",
    "X_ldr_basicq = obsim_mm_means_df.loc[:, X_ldr_basicq_cols]\n",
    "X_ldr_basicq['sqrt_load_ldr'] = X_ldr_basicq['load_ldr'] ** 0.5\n",
    "X_ldr_basicq['sqrt_load_pp'] = X_ldr_basicq['load_pp'] ** 0.5\n",
    "\n",
    "X_ldr_q = obsim_mm_means_df.loc[:, X_ldr_q_cols]\n",
    "X_ldr_q['sqrt_load_ldr'] = X_ldr_q['load_ldr'] ** 0.5\n",
    "X_ldr_q['sqrt_load_pp'] = X_ldr_q['load_pp'] ** 0.5\n",
    "\n",
    "# OBS\n",
    "X_obs_basicq = obsim_mm_means_df.loc[:, X_obs_basicq_cols]\n",
    "X_obs_basicq['sqrt_load_obs'] = X_obs_basicq['load_obs'] ** 0.5\n",
    "X_obs_basicq['sqrt_load_ldr'] = X_obs_basicq['load_ldr'] ** 0.5\n",
    "X_obs_basicq['sqrt_load_pp'] = X_obs_basicq['load_pp'] ** 0.5\n",
    "\n",
    "X_obs_q = obsim_mm_means_df.loc[:, X_obs_q_cols]\n",
    "X_obs_q['sqrt_load_obs'] = X_obs_q['load_obs'] ** 0.5\n",
    "X_obs_q['sqrt_load_ldr'] = X_obs_q['load_ldr'] ** 0.5\n",
    "X_obs_q['sqrt_load_pp'] = X_obs_q['load_pp'] ** 0.5\n",
    "\n",
    "# y vectors\n",
    "y_pp_occ_mean = obsim_mm_means_df.loc[:, 'occ_mean_mean_pp']\n",
    "y_pp_occ_p95 = obsim_mm_means_df.loc[:, 'occ_mean_p95_pp']\n",
    "y_ldr_occ_mean = obsim_mm_means_df.loc[:, 'occ_mean_mean_ldr']\n",
    "y_ldr_occ_p95 = obsim_mm_means_df.loc[:, 'occ_mean_p95_ldr']\n",
    "y_obs_occ_mean = obsim_mm_means_df.loc[:, 'occ_mean_mean_obs']\n",
    "y_obs_occ_p95 = obsim_mm_means_df.loc[:, 'occ_mean_p95_obs']\n",
    "\n",
    "y_mean_pct_blocked_by_pp = obsim_mm_means_df.loc[:, 'prob_blockedby_pp_sim']\n",
    "y_mean_pct_blocked_by_ldr = obsim_mm_means_df.loc[:, 'prob_blockedby_ldr_sim']\n",
    "y_condmeantime_blockedbyldr = obsim_mm_means_df.loc[:, 'condmeantime_blockedbyldr_sim']\n",
    "y_condmeantime_blockedbypp = obsim_mm_means_df.loc[:, 'condmeantime_blockedbypp_sim']"
   ]
  },
  {
   "cell_type": "markdown",
   "id": "0e7f4737-9fa4-44f1-a786-7f9532631e20",
   "metadata": {},
   "source": [
    "### Creating scenario dataframe to drive graph"
   ]
  },
  {
   "cell_type": "code",
   "execution_count": 6,
   "id": "3078b177-5bb1-4211-be1a-500931f4cc59",
   "metadata": {},
   "outputs": [],
   "source": [
    "arrival_rate = np.linspace(5, 15, 11)\n",
    "alos_obs = np.atleast_1d(0.1)\n",
    "alos_ldr = np.atleast_1d(0.5)\n",
    "cap_ldr = np.atleast_1d(16)\n",
    "cap_pp = np.atleast_1d(36)\n",
    "alos_pp_noc = np.atleast_1d(2)\n",
    "alos_pp_c = np.atleast_1d(3)\n",
    "tot_c_rate = np.array([0.2, 0.25, 0.3])"
   ]
  },
  {
   "cell_type": "code",
   "execution_count": 7,
   "id": "ff287854-5bf5-4451-806f-ba87de904cef",
   "metadata": {},
   "outputs": [],
   "source": [
    "input_scenarios = [scn for scn in itertools.product(arrival_rate, alos_obs, alos_ldr, cap_ldr,\n",
    "                            alos_pp_noc, alos_pp_c, tot_c_rate, cap_pp)]\n",
    "\n",
    "cols = ['lam_obs',\n",
    " 'alos_obs',\n",
    " 'alos_ldr',\n",
    " 'cap_ldr',\n",
    " 'alos_pp_noc',\n",
    " 'alos_pp_c',\n",
    " 'tot_c_rate',\n",
    " 'cap_pp']\n",
    "\n",
    "scenarios_io_df = pd.DataFrame(input_scenarios, columns=cols)\n"
   ]
  },
  {
   "cell_type": "code",
   "execution_count": 8,
   "id": "24d20f7d-aa02-4c72-820c-9e6e5ff78ff3",
   "metadata": {},
   "outputs": [
    {
     "name": "stdout",
     "output_type": "stream",
     "text": [
      "<class 'pandas.core.frame.DataFrame'>\n",
      "RangeIndex: 33 entries, 0 to 32\n",
      "Data columns (total 8 columns):\n",
      " #   Column       Non-Null Count  Dtype  \n",
      "---  ------       --------------  -----  \n",
      " 0   lam_obs      33 non-null     float64\n",
      " 1   alos_obs     33 non-null     float64\n",
      " 2   alos_ldr     33 non-null     float64\n",
      " 3   cap_ldr      33 non-null     int64  \n",
      " 4   alos_pp_noc  33 non-null     int64  \n",
      " 5   alos_pp_c    33 non-null     int64  \n",
      " 6   tot_c_rate   33 non-null     float64\n",
      " 7   cap_pp       33 non-null     int64  \n",
      "dtypes: float64(4), int64(4)\n",
      "memory usage: 2.2 KB\n"
     ]
    }
   ],
   "source": [
    "scenarios_io_df.info()"
   ]
  },
  {
   "cell_type": "code",
   "execution_count": 9,
   "id": "b82d1a23-156a-4913-b656-287ab9fa54ff",
   "metadata": {},
   "outputs": [],
   "source": [
    "scenarios_io_df['alos_pp'] = scenarios_io_df['tot_c_rate'] * scenarios_io_df['alos_pp_c'] + (1 - scenarios_io_df['tot_c_rate']) * scenarios_io_df['alos_pp_noc']"
   ]
  },
  {
   "cell_type": "code",
   "execution_count": 10,
   "id": "f720c559-80ec-4c8c-9c5b-b0c9c4f84c95",
   "metadata": {},
   "outputs": [],
   "source": [
    "scenarios_io_df['load_ldr'] = scenarios_io_df['lam_obs'] * scenarios_io_df['alos_ldr']\n",
    "scenarios_io_df['rho_ldr'] = scenarios_io_df['load_ldr'] / scenarios_io_df['cap_ldr']\n",
    "\n",
    "scenarios_io_df['load_pp'] = scenarios_io_df['lam_obs'] * scenarios_io_df['alos_pp']\n",
    "scenarios_io_df['rho_pp'] = scenarios_io_df['load_pp'] / scenarios_io_df['cap_pp']\n",
    "\n",
    "scenarios_io_df['sqrt_load_ldr'] = np.sqrt(scenarios_io_df['rho_ldr'])\n",
    "scenarios_io_df['sqrt_load_pp'] = np.sqrt(scenarios_io_df['rho_pp'])"
   ]
  },
  {
   "cell_type": "code",
   "execution_count": 11,
   "id": "17e8ce46-1041-4016-8c62-b4a9cb3d3654",
   "metadata": {},
   "outputs": [],
   "source": [
    "scenarios_io_df['pp_cv2_svctime'] = 0.12\n",
    "scenarios_io_df['ldr_cv2_svctime'] = 0.5\n",
    "scenarios_io_df['obs_cv2_svctime'] = 1.0"
   ]
  },
  {
   "cell_type": "code",
   "execution_count": 12,
   "id": "2ffee8de-978e-4bc4-80a9-7fd16736d75f",
   "metadata": {},
   "outputs": [],
   "source": [
    "scenarios_io_df['prob_blockedby_pp_approx'] = scenarios_io_df.apply(lambda x: obnetwork2.ldr_prob_blockedby_pp_hat(\n",
    "    x.lam_obs, x.alos_pp, x.cap_pp, x.pp_cv2_svctime), axis=1)"
   ]
  },
  {
   "cell_type": "code",
   "execution_count": 13,
   "id": "53bd571a-c45b-42f4-bc0b-3e5856432e83",
   "metadata": {},
   "outputs": [],
   "source": [
    "scenarios_io_df['condmeantime_blockedbypp_approx'] = scenarios_io_df.apply(lambda x: obnetwork2.ldr_condmeantime_blockedby_pp_hat(\n",
    "    x.lam_obs, x.alos_pp, x.cap_pp, x.pp_cv2_svctime), axis=1)"
   ]
  },
  {
   "cell_type": "code",
   "execution_count": 14,
   "id": "7b4d43f1-baeb-4a54-b12a-c3036038f567",
   "metadata": {},
   "outputs": [
    {
     "name": "stdout",
     "output_type": "stream",
     "text": [
      "<class 'pandas.core.frame.DataFrame'>\n",
      "RangeIndex: 33 entries, 0 to 32\n",
      "Data columns (total 20 columns):\n",
      " #   Column                           Non-Null Count  Dtype  \n",
      "---  ------                           --------------  -----  \n",
      " 0   lam_obs                          33 non-null     float64\n",
      " 1   alos_obs                         33 non-null     float64\n",
      " 2   alos_ldr                         33 non-null     float64\n",
      " 3   cap_ldr                          33 non-null     int64  \n",
      " 4   alos_pp_noc                      33 non-null     int64  \n",
      " 5   alos_pp_c                        33 non-null     int64  \n",
      " 6   tot_c_rate                       33 non-null     float64\n",
      " 7   cap_pp                           33 non-null     int64  \n",
      " 8   alos_pp                          33 non-null     float64\n",
      " 9   load_ldr                         33 non-null     float64\n",
      " 10  rho_ldr                          33 non-null     float64\n",
      " 11  load_pp                          33 non-null     float64\n",
      " 12  rho_pp                           33 non-null     float64\n",
      " 13  sqrt_load_ldr                    33 non-null     float64\n",
      " 14  sqrt_load_pp                     33 non-null     float64\n",
      " 15  pp_cv2_svctime                   33 non-null     float64\n",
      " 16  ldr_cv2_svctime                  33 non-null     float64\n",
      " 17  obs_cv2_svctime                  33 non-null     float64\n",
      " 18  prob_blockedby_pp_approx         33 non-null     float64\n",
      " 19  condmeantime_blockedbypp_approx  33 non-null     float64\n",
      "dtypes: float64(16), int64(4)\n",
      "memory usage: 5.3 KB\n"
     ]
    }
   ],
   "source": [
    "scenarios_io_df.info()"
   ]
  },
  {
   "cell_type": "code",
   "execution_count": 15,
   "id": "f2fc3c2d-2b50-4d3e-bdab-f01a95483414",
   "metadata": {},
   "outputs": [],
   "source": [
    "scenarios_io_df['prob_blockedby_ldr_approx'] = \\\n",
    "    input_scenarios_df.apply(lambda x: obnetwork2.obs_blockedby_ldr_hats(\n",
    "        x.lam_obs, x.tot_c_rate, x.alos_ldr, x.ldr_cv2_svctime, x.cap_ldr, \n",
    "    x.alos_pp, x.pp_cv2_svctime, x.cap_pp)[2], axis=1)"
   ]
  },
  {
   "cell_type": "code",
   "execution_count": 16,
   "id": "c5e8be75-34d9-4188-a202-bea858dfc9b1",
   "metadata": {},
   "outputs": [],
   "source": [
    "scenarios_io_df['condmeantime_blockedbyldr_approx'] = \\\n",
    "    input_scenarios_df.apply(lambda x: obnetwork2.obs_blockedby_ldr_hats(\n",
    "        x.lam_obs, x.tot_c_rate, x.alos_ldr, x.ldr_cv2_svctime, x.cap_ldr, \n",
    "    x.alos_pp, x.pp_cv2_svctime, x.cap_pp)[3], axis=1)"
   ]
  },
  {
   "cell_type": "code",
   "execution_count": 17,
   "id": "f459a1b9-530e-4b75-a1ba-b1d2adad50e4",
   "metadata": {},
   "outputs": [],
   "source": [
    "scenarios_io_df['ldr_effmean_svctime_approx'] = \\\n",
    "    input_scenarios_df.apply(lambda x: obnetwork2.obs_blockedby_ldr_hats(\n",
    "        x.lam_obs, x.tot_c_rate, x.alos_ldr, x.ldr_cv2_svctime, x.cap_ldr, \n",
    "    x.alos_pp, x.pp_cv2_svctime, x.cap_pp)[1], axis=1)"
   ]
  },
  {
   "cell_type": "markdown",
   "id": "aca73e83-2773-4fed-b043-2a94dfad8e0d",
   "metadata": {},
   "source": [
    "Now just want the columns that exist in `X_ldr_q` to use in making predictions for the different perf measures with the various models we already fit with sklearn. In addition, we want to compare with some direct queueing approximations."
   ]
  },
  {
   "cell_type": "code",
   "execution_count": 30,
   "id": "e456eed4-fddc-4aa2-8e5f-d6d4885bd93f",
   "metadata": {},
   "outputs": [],
   "source": [
    "X_ldr_q_scenarios_df = scenarios_io_df.loc[:, X_ldr_q_cols]"
   ]
  },
  {
   "cell_type": "code",
   "execution_count": null,
   "id": "a20f8522-290a-433d-8925-5af3ad00b24d",
   "metadata": {},
   "outputs": [],
   "source": []
  },
  {
   "cell_type": "code",
   "execution_count": null,
   "id": "7a0d9022-e8bb-4eed-94ef-17d680637d85",
   "metadata": {},
   "outputs": [],
   "source": []
  },
  {
   "cell_type": "code",
   "execution_count": null,
   "id": "44000441-d3ec-47dd-a75d-d51dd41cd616",
   "metadata": {},
   "outputs": [],
   "source": []
  },
  {
   "cell_type": "code",
   "execution_count": null,
   "id": "215f3f87-e279-42ba-af77-01700b128228",
   "metadata": {},
   "outputs": [],
   "source": [
    "ldr_occ_mean_direct_approx = X_ldr_q['lam_obs'] * X_ldr_q['ldr_effmean_svctime_approx'] /24.0 "
   ]
  },
  {
   "cell_type": "code",
   "execution_count": null,
   "id": "916f8db5-8fb9-472c-941e-2a845a1a0b7c",
   "metadata": {},
   "outputs": [],
   "source": [
    "prediction_scatter(y_ldr_occ_mean, ldr_occ_mean_direct_approx)"
   ]
  },
  {
   "cell_type": "code",
   "execution_count": null,
   "id": "da5aa5ca-0511-41b8-b076-5f6071ae4cfc",
   "metadata": {},
   "outputs": [],
   "source": [
    "ldr_occ_p95_direct_approx = ldr_occ_mean_direct_approx + 1.645 * np.sqrt(ldr_occ_mean_direct_approx)"
   ]
  },
  {
   "cell_type": "code",
   "execution_count": null,
   "id": "6b375297-1a71-4140-b711-56a828b30204",
   "metadata": {},
   "outputs": [],
   "source": [
    "prediction_scatter(y_ldr_occ_p95, ldr_occ_p95_direct_approx)"
   ]
  },
  {
   "cell_type": "markdown",
   "id": "fc3c770f-7710-460e-9d27-7f13b30e824e",
   "metadata": {},
   "source": [
    "For the over predictions, perhaps we are bumping up against capacity restrictions. A simple metametamodel that includes the direct approximation along with rho_ldr might do ok."
   ]
  },
  {
   "cell_type": "code",
   "execution_count": null,
   "id": "c9769059-7498-4748-bbf1-565031fc8ea4",
   "metadata": {},
   "outputs": [],
   "source": [
    "X_ldr_approx = pd.DataFrame({'ldr_occ_p95_direct_approx': ldr_occ_p95_direct_approx,\n",
    "               'rho_ldr': X_ldr_q.loc[:, 'rho_ldr']})"
   ]
  },
  {
   "cell_type": "code",
   "execution_count": null,
   "id": "d93993a6-9d8e-45f6-be1c-defc9384f1df",
   "metadata": {},
   "outputs": [],
   "source": [
    "X_ldr_approx"
   ]
  },
  {
   "cell_type": "code",
   "execution_count": null,
   "id": "12cb3098-127e-4c31-b5cf-2ce9ded1aa25",
   "metadata": {},
   "outputs": [],
   "source": [
    "ldr_occ_p95_q_approx_results = fit_summarize_mm('ldr_occ_p95_q_approx', X_ldr_approx, y_ldr_occ_p95, \n",
    "                                                 scale=False, fit_intercept=True, \n",
    "                                                 flavor='lm')\n",
    "ldr_occ_p95_q_approx_results['coeffs_df']\n"
   ]
  }
 ],
 "metadata": {
  "kernelspec": {
   "display_name": "Python 3",
   "language": "python",
   "name": "python3"
  },
  "language_info": {
   "codemirror_mode": {
    "name": "ipython",
    "version": 3
   },
   "file_extension": ".py",
   "mimetype": "text/x-python",
   "name": "python",
   "nbconvert_exporter": "python",
   "pygments_lexer": "ipython3",
   "version": "3.9.4"
  }
 },
 "nbformat": 4,
 "nbformat_minor": 5
}
