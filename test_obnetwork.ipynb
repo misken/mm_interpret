{
 "cells": [
  {
   "cell_type": "markdown",
   "id": "efb62151-8acd-4a9e-99f1-e95277bc245b",
   "metadata": {},
   "source": [
    "# Testing obnetwork approximations"
   ]
  },
  {
   "cell_type": "code",
   "execution_count": 11,
   "id": "b82c025f-3cbe-4bb8-a33b-bd073a7f91fd",
   "metadata": {},
   "outputs": [],
   "source": [
    "%load_ext autoreload\n",
    "%autoreload 2"
   ]
  },
  {
   "cell_type": "code",
   "execution_count": 12,
   "id": "0e807eb4-f289-4f40-873b-dc38a5c2972f",
   "metadata": {},
   "outputs": [],
   "source": [
    "import numpy as np\n",
    "import pandas as pd\n",
    "import matplotlib.pyplot as plt\n",
    "import seaborn as sns\n",
    "import math\n",
    "from pathlib import Path\n",
    "import pickle\n",
    "import itertools\n",
    "import yaml"
   ]
  },
  {
   "cell_type": "code",
   "execution_count": 13,
   "id": "5f94a7dc-29bf-4c86-9ed9-a737f3f717b5",
   "metadata": {},
   "outputs": [],
   "source": [
    "from obnetwork import obnetwork\n",
    "from qng import qng"
   ]
  },
  {
   "cell_type": "code",
   "execution_count": 15,
   "id": "d917d643-720f-4cf3-a909-78b907b656b6",
   "metadata": {},
   "outputs": [],
   "source": [
    "a = 0.333\n",
    "\n",
    "mean_los_obs = 48.0\n",
    "mean_los_ldr = 48.0\n",
    "mean_los_pp = 72.0\n",
    "csect_prob = 0.0\n",
    "\n",
    "erlang_k_obs = 1\n",
    "erlang_k_ldr = 2\n",
    "erlang_k_pp = 4\n",
    "\n",
    "los_cv2_obs = 1 / erlang_k_obs\n",
    "los_cv2_ldr = 1 / erlang_k_ldr\n",
    "# Just use erlang for pp\n",
    "los_cv2_pp = 1 / erlang_k_pp\n",
    "\n",
    "cap_obs = 20\n",
    "cap_ldr = 20\n",
    "cap_pp = 30\n",
    "\n"
   ]
  },
  {
   "cell_type": "markdown",
   "id": "7a62584a-1ae8-4dd0-8c54-1220b4ae8442",
   "metadata": {},
   "source": [
    "Now try a heavier traffic scenario that is producing garbage results."
   ]
  },
  {
   "cell_type": "code",
   "execution_count": 38,
   "id": "0f9375ba-d9f6-43a6-b826-97d19da7b296",
   "metadata": {},
   "outputs": [],
   "source": [
    "a = 0.375\n",
    "\n",
    "mean_los_obs = 48.0\n",
    "mean_los_ldr = 48.0\n",
    "mean_los_pp = 72.0\n",
    "csect_prob = 0.0\n",
    "\n",
    "erlang_k_obs = 1\n",
    "erlang_k_ldr = 2\n",
    "erlang_k_pp = 4\n",
    "\n",
    "los_cv2_obs = 1 / erlang_k_obs\n",
    "los_cv2_ldr = 1 / erlang_k_ldr\n",
    "# Just use erlang for pp\n",
    "los_cv2_pp = 1 / erlang_k_pp\n",
    "\n",
    "cap_obs = 20\n",
    "cap_ldr = 20\n",
    "cap_pp = 30\n",
    "\n"
   ]
  },
  {
   "cell_type": "code",
   "execution_count": 50,
   "id": "e90514c8-a340-4466-96a9-62feac75fea4",
   "metadata": {},
   "outputs": [
    {
     "name": "stdout",
     "output_type": "stream",
     "text": [
      "load_obs=18.0, rho_ldr=18.0, rho_pp=27.0\n",
      "rho_obs=0.9, rho_ldr=0.9, rho_pp=0.9\n"
     ]
    }
   ],
   "source": [
    "load_obs = a * mean_los_obs\n",
    "load_ldr = a * mean_los_ldr\n",
    "load_pp = a * mean_los_pp\n",
    "print(f'load_obs={load_obs:.3}, rho_ldr={load_ldr:.3}, rho_pp={load_pp:.3}')\n",
    "\n",
    "rho_obs = a * mean_los_obs / cap_obs\n",
    "rho_ldr = a * mean_los_ldr / cap_ldr\n",
    "rho_pp = a * mean_los_pp / cap_pp\n",
    "print(f'rho_obs={rho_obs:.3}, rho_ldr={rho_ldr:.3}, rho_pp={rho_pp:.3}')"
   ]
  },
  {
   "cell_type": "code",
   "execution_count": null,
   "id": "50a8287a-cbb6-4460-8a70-6ecdb35eb7dd",
   "metadata": {},
   "outputs": [],
   "source": []
  },
  {
   "cell_type": "code",
   "execution_count": 51,
   "id": "705f5b39-94ab-42ee-a581-75b4cb3b3a84",
   "metadata": {},
   "outputs": [
    {
     "ename": "UnboundLocalError",
     "evalue": "local variable 'mean_qwait' referenced before assignment",
     "output_type": "error",
     "traceback": [
      "\u001b[0;31m---------------------------------------------------------------------------\u001b[0m",
      "\u001b[0;31mUnboundLocalError\u001b[0m                         Traceback (most recent call last)",
      "\u001b[0;32m/tmp/ipykernel_44055/4099827125.py\u001b[0m in \u001b[0;36m<module>\u001b[0;34m\u001b[0m\n\u001b[1;32m      2\u001b[0m     a, mean_los_pp, cap_pp, los_cv2_pp)\n\u001b[1;32m      3\u001b[0m \u001b[0;34m\u001b[0m\u001b[0m\n\u001b[0;32m----> 4\u001b[0;31m mean_blockedby_pp = obnetwork.meantime_blockedby_pp_hat(\n\u001b[0m\u001b[1;32m      5\u001b[0m     a, mean_los_pp, cap_pp, los_cv2_pp)\n\u001b[1;32m      6\u001b[0m \u001b[0;34m\u001b[0m\u001b[0m\n",
      "\u001b[0;32m~/Documents/development/obnetwork/src/obnetwork/obnetwork.py\u001b[0m in \u001b[0;36mmeantime_blockedby_pp_hat\u001b[0;34m(arr_rate, pp_mean_svctime, pp_cap, pp_cv2_svctime)\u001b[0m\n\u001b[1;32m    313\u001b[0m     \"\"\"\n\u001b[1;32m    314\u001b[0m     \u001b[0mpp_svcrate\u001b[0m \u001b[0;34m=\u001b[0m \u001b[0;36m1.0\u001b[0m \u001b[0;34m/\u001b[0m \u001b[0mpp_mean_svctime\u001b[0m\u001b[0;34m\u001b[0m\u001b[0;34m\u001b[0m\u001b[0m\n\u001b[0;32m--> 315\u001b[0;31m     \u001b[0mmeantime\u001b[0m \u001b[0;34m=\u001b[0m \u001b[0mqng\u001b[0m\u001b[0;34m.\u001b[0m\u001b[0mmgc_mean_qwait_kimura\u001b[0m\u001b[0;34m(\u001b[0m\u001b[0marr_rate\u001b[0m\u001b[0;34m,\u001b[0m \u001b[0mpp_svcrate\u001b[0m\u001b[0;34m,\u001b[0m \u001b[0mint\u001b[0m\u001b[0;34m(\u001b[0m\u001b[0mpp_cap\u001b[0m\u001b[0;34m)\u001b[0m\u001b[0;34m,\u001b[0m \u001b[0mpp_cv2_svctime\u001b[0m\u001b[0;34m)\u001b[0m\u001b[0;34m\u001b[0m\u001b[0;34m\u001b[0m\u001b[0m\n\u001b[0m\u001b[1;32m    316\u001b[0m \u001b[0;34m\u001b[0m\u001b[0m\n\u001b[1;32m    317\u001b[0m     \u001b[0;32mreturn\u001b[0m \u001b[0mmeantime\u001b[0m\u001b[0;34m\u001b[0m\u001b[0;34m\u001b[0m\u001b[0m\n",
      "\u001b[0;32m~/Documents/development/qng/src/qng/qng.py\u001b[0m in \u001b[0;36mmgc_mean_qwait_kimura\u001b[0;34m(arr_rate, svc_rate, c, cv2_svc_time)\u001b[0m\n\u001b[1;32m    646\u001b[0m         \u001b[0mterm1\u001b[0m \u001b[0;34m=\u001b[0m \u001b[0;36m1.0\u001b[0m \u001b[0;34m+\u001b[0m \u001b[0mcv2_svc_time\u001b[0m\u001b[0;34m\u001b[0m\u001b[0;34m\u001b[0m\u001b[0m\n\u001b[1;32m    647\u001b[0m         \u001b[0mterm2\u001b[0m \u001b[0;34m=\u001b[0m \u001b[0;36m2.0\u001b[0m \u001b[0;34m*\u001b[0m \u001b[0mcv2_svc_time\u001b[0m \u001b[0;34m/\u001b[0m \u001b[0mmmc_mean_qwait\u001b[0m\u001b[0;34m(\u001b[0m\u001b[0marr_rate\u001b[0m\u001b[0;34m,\u001b[0m \u001b[0msvc_rate\u001b[0m\u001b[0;34m,\u001b[0m \u001b[0mc\u001b[0m\u001b[0;34m)\u001b[0m\u001b[0;34m\u001b[0m\u001b[0;34m\u001b[0m\u001b[0m\n\u001b[0;32m--> 648\u001b[0;31m         \u001b[0mterm3\u001b[0m \u001b[0;34m=\u001b[0m \u001b[0;34m(\u001b[0m\u001b[0;36m1.0\u001b[0m \u001b[0;34m-\u001b[0m \u001b[0mcv2_svc_time\u001b[0m\u001b[0;34m)\u001b[0m \u001b[0;34m/\u001b[0m \u001b[0mmdc_mean_qwait_cosmetatos\u001b[0m\u001b[0;34m(\u001b[0m\u001b[0marr_rate\u001b[0m\u001b[0;34m,\u001b[0m \u001b[0msvc_rate\u001b[0m\u001b[0;34m,\u001b[0m \u001b[0mc\u001b[0m\u001b[0;34m)\u001b[0m\u001b[0;34m\u001b[0m\u001b[0;34m\u001b[0m\u001b[0m\n\u001b[0m\u001b[1;32m    649\u001b[0m \u001b[0;34m\u001b[0m\u001b[0m\n\u001b[1;32m    650\u001b[0m         \u001b[0mmean_qwait\u001b[0m \u001b[0;34m=\u001b[0m \u001b[0mterm1\u001b[0m \u001b[0;34m/\u001b[0m \u001b[0;34m(\u001b[0m\u001b[0mterm2\u001b[0m \u001b[0;34m+\u001b[0m \u001b[0mterm3\u001b[0m\u001b[0;34m)\u001b[0m\u001b[0;34m\u001b[0m\u001b[0;34m\u001b[0m\u001b[0m\n",
      "\u001b[0;32m~/Documents/development/qng/src/qng/qng.py\u001b[0m in \u001b[0;36mmdc_mean_qwait_cosmetatos\u001b[0;34m(arr_rate, svc_rate, c)\u001b[0m\n\u001b[1;32m    570\u001b[0m     \"\"\"\n\u001b[1;32m    571\u001b[0m \u001b[0;34m\u001b[0m\u001b[0m\n\u001b[0;32m--> 572\u001b[0;31m     \u001b[0mmean_qwait\u001b[0m\u001b[0;34m\u001b[0m\u001b[0;34m\u001b[0m\u001b[0m\n\u001b[0m\u001b[1;32m    573\u001b[0m     \u001b[0mrho\u001b[0m \u001b[0;34m=\u001b[0m \u001b[0marr_rate\u001b[0m \u001b[0;34m/\u001b[0m \u001b[0;34m(\u001b[0m\u001b[0msvc_rate\u001b[0m \u001b[0;34m*\u001b[0m \u001b[0mfloat\u001b[0m\u001b[0;34m(\u001b[0m\u001b[0mc\u001b[0m\u001b[0;34m)\u001b[0m\u001b[0;34m)\u001b[0m\u001b[0;34m\u001b[0m\u001b[0;34m\u001b[0m\u001b[0m\n\u001b[1;32m    574\u001b[0m \u001b[0;34m\u001b[0m\u001b[0m\n",
      "\u001b[0;31mUnboundLocalError\u001b[0m: local variable 'mean_qwait' referenced before assignment"
     ]
    }
   ],
   "source": [
    "prob_blockedby_pp = obnetwork.prob_blockedby_pp_hat(\n",
    "    a, mean_los_pp, cap_pp, los_cv2_pp)\n",
    "\n",
    "mean_blockedby_pp = obnetwork.meantime_blockedby_pp_hat(\n",
    "    a, mean_los_pp, cap_pp, los_cv2_pp)\n",
    "\n",
    "condmean_blockedby_pp = mean_blockedby_pp / prob_blockedby_pp\n",
    "\n",
    "print(f'prob_blockedby_pp={prob_blockedby_pp:.3}')\n",
    "print(f'mean_blockedby_pp={mean_blockedby_pp:.3}')\n",
    "print(f'condmean_blockedby_pp={condmean_blockedby_pp:.3}')"
   ]
  },
  {
   "cell_type": "code",
   "execution_count": 54,
   "id": "323782e4-223c-4cd5-b5d3-c4351d57ed44",
   "metadata": {},
   "outputs": [
    {
     "name": "stdout",
     "output_type": "stream",
     "text": [
      "eff_rho_ldr=1.04\n"
     ]
    },
    {
     "ename": "ValueError",
     "evalue": "Traffic intensity >= 1.0",
     "output_type": "error",
     "traceback": [
      "\u001b[0;31m---------------------------------------------------------------------------\u001b[0m",
      "\u001b[0;31mValueError\u001b[0m                                Traceback (most recent call last)",
      "\u001b[0;32m/tmp/ipykernel_44055/2385166552.py\u001b[0m in \u001b[0;36m<module>\u001b[0;34m\u001b[0m\n\u001b[1;32m      5\u001b[0m \u001b[0mprob_blockedby_ldr_init\u001b[0m \u001b[0;34m=\u001b[0m \u001b[0mqng\u001b[0m\u001b[0;34m.\u001b[0m\u001b[0mmgc_prob_wait_erlangc\u001b[0m\u001b[0;34m(\u001b[0m\u001b[0ma\u001b[0m\u001b[0;34m,\u001b[0m \u001b[0;36m1\u001b[0m \u001b[0;34m/\u001b[0m \u001b[0mldr_eff_los_init\u001b[0m\u001b[0;34m,\u001b[0m \u001b[0mint\u001b[0m\u001b[0;34m(\u001b[0m\u001b[0mcap_ldr\u001b[0m\u001b[0;34m)\u001b[0m\u001b[0;34m)\u001b[0m\u001b[0;34m\u001b[0m\u001b[0;34m\u001b[0m\u001b[0m\n\u001b[1;32m      6\u001b[0m \u001b[0;34m\u001b[0m\u001b[0m\n\u001b[0;32m----> 7\u001b[0;31m mean_blockedby_ldr = obnetwork.meantime_blockedby_pp_hat(\n\u001b[0m\u001b[1;32m      8\u001b[0m     a, ldr_eff_los_init, cap_ldr, los_cv2_ldr)\n\u001b[1;32m      9\u001b[0m \u001b[0;34m\u001b[0m\u001b[0m\n",
      "\u001b[0;32m~/Documents/development/obnetwork/src/obnetwork/obnetwork.py\u001b[0m in \u001b[0;36mmeantime_blockedby_pp_hat\u001b[0;34m(arr_rate, pp_mean_svctime, pp_cap, pp_cv2_svctime)\u001b[0m\n\u001b[1;32m    313\u001b[0m     \"\"\"\n\u001b[1;32m    314\u001b[0m     \u001b[0mpp_svcrate\u001b[0m \u001b[0;34m=\u001b[0m \u001b[0;36m1.0\u001b[0m \u001b[0;34m/\u001b[0m \u001b[0mpp_mean_svctime\u001b[0m\u001b[0;34m\u001b[0m\u001b[0;34m\u001b[0m\u001b[0m\n\u001b[0;32m--> 315\u001b[0;31m     \u001b[0mmeantime\u001b[0m \u001b[0;34m=\u001b[0m \u001b[0mqng\u001b[0m\u001b[0;34m.\u001b[0m\u001b[0mmgc_mean_qwait_kimura\u001b[0m\u001b[0;34m(\u001b[0m\u001b[0marr_rate\u001b[0m\u001b[0;34m,\u001b[0m \u001b[0mpp_svcrate\u001b[0m\u001b[0;34m,\u001b[0m \u001b[0mint\u001b[0m\u001b[0;34m(\u001b[0m\u001b[0mpp_cap\u001b[0m\u001b[0;34m)\u001b[0m\u001b[0;34m,\u001b[0m \u001b[0mpp_cv2_svctime\u001b[0m\u001b[0;34m)\u001b[0m\u001b[0;34m\u001b[0m\u001b[0;34m\u001b[0m\u001b[0m\n\u001b[0m\u001b[1;32m    316\u001b[0m \u001b[0;34m\u001b[0m\u001b[0m\n\u001b[1;32m    317\u001b[0m     \u001b[0;32mreturn\u001b[0m \u001b[0mmeantime\u001b[0m\u001b[0;34m\u001b[0m\u001b[0;34m\u001b[0m\u001b[0m\n",
      "\u001b[0;32m~/Documents/development/qng/src/qng/qng.py\u001b[0m in \u001b[0;36mmgc_mean_qwait_kimura\u001b[0;34m(arr_rate, svc_rate, c, cv2_svc_time)\u001b[0m\n\u001b[1;32m    644\u001b[0m \u001b[0;34m\u001b[0m\u001b[0m\n\u001b[1;32m    645\u001b[0m     \u001b[0;32mif\u001b[0m \u001b[0mload\u001b[0m \u001b[0;34m>=\u001b[0m \u001b[0mc\u001b[0m\u001b[0;34m:\u001b[0m\u001b[0;34m\u001b[0m\u001b[0;34m\u001b[0m\u001b[0m\n\u001b[0;32m--> 646\u001b[0;31m         \u001b[0;32mraise\u001b[0m \u001b[0mValueError\u001b[0m\u001b[0;34m(\u001b[0m\u001b[0;34m\"Traffic intensity >= 1.0\"\u001b[0m\u001b[0;34m)\u001b[0m\u001b[0;34m\u001b[0m\u001b[0;34m\u001b[0m\u001b[0m\n\u001b[0m\u001b[1;32m    647\u001b[0m \u001b[0;34m\u001b[0m\u001b[0m\n\u001b[1;32m    648\u001b[0m     \u001b[0mterm1\u001b[0m \u001b[0;34m=\u001b[0m \u001b[0;36m1.0\u001b[0m \u001b[0;34m+\u001b[0m \u001b[0mcv2_svc_time\u001b[0m\u001b[0;34m\u001b[0m\u001b[0;34m\u001b[0m\u001b[0m\n",
      "\u001b[0;31mValueError\u001b[0m: Traffic intensity >= 1.0"
     ]
    }
   ],
   "source": [
    "ldr_eff_los_init = mean_los_ldr + mean_blockedby_pp\n",
    "eff_rho_ldr = a * ldr_eff_los_init / cap_ldr\n",
    "print(f'eff_rho_ldr={eff_rho_ldr:.3}')\n",
    "\n",
    "prob_blockedby_ldr_init = qng.mgc_prob_wait_erlangc(a, 1 / ldr_eff_los_init, int(cap_ldr))\n",
    "\n",
    "mean_blockedby_ldr = obnetwork.meantime_blockedby_pp_hat(\n",
    "    a, ldr_eff_los_init, cap_ldr, los_cv2_ldr)\n",
    "\n",
    "condmean_blockedby_ldr = mean_blockedby_ldr / prob_blockedby_ldr_init\n",
    "\n",
    "print(f'ldr_eff_los_init={ldr_eff_los_init:.3}')\n",
    "print(f'prob_blockedby_ldr_init={prob_blockedby_ldr_init:.3}')\n",
    "print(f'mean_blockedby_ldr={mean_blockedby_ldr:.3}')\n",
    "print(f'condmean_blockedby_ldr={condmean_blockedby_ldr:.3}')"
   ]
  },
  {
   "cell_type": "code",
   "execution_count": 37,
   "id": "192fe385-d141-459a-83d3-c096f68e6585",
   "metadata": {},
   "outputs": [
    {
     "name": "stdout",
     "output_type": "stream",
     "text": [
      "ldr_eff_los_updated=47.4\n",
      "prob_blockedby_ldr_updated=0.231\n",
      "mean_blockedby_ldr=2.06\n",
      "condmean_blockedby_ldr=8.91\n"
     ]
    }
   ],
   "source": [
    "ldr_eff_los_updated = mean_los_ldr + mean_blockedby_pp - mean_blockedby_ldr\n",
    "\n",
    "prob_blockedby_ldr_updated = qng.mgc_prob_wait_erlangc(a, 1 / ldr_eff_los_updated, int(cap_ldr))\n",
    "\n",
    "mean_blockedby_ldr = obnetwork.meantime_blockedby_pp_hat(\n",
    "    a, ldr_eff_los_updated, cap_ldr, los_cv2_ldr)\n",
    "\n",
    "condmean_blockedby_ldr = mean_blockedby_ldr / prob_blockedby_ldr_updated\n",
    "\n",
    "print(f'ldr_eff_los_updated={ldr_eff_los_updated:.3}')\n",
    "print(f'prob_blockedby_ldr_updated={prob_blockedby_ldr_updated:.3}')\n",
    "print(f'mean_blockedby_ldr={mean_blockedby_ldr:.3}')\n",
    "print(f'condmean_blockedby_ldr={condmean_blockedby_ldr:.3}')"
   ]
  },
  {
   "cell_type": "code",
   "execution_count": 27,
   "id": "e8dac588-0fde-4f9c-bf85-274a732333b1",
   "metadata": {},
   "outputs": [
    {
     "name": "stdout",
     "output_type": "stream",
     "text": [
      "prob_blockedby_ldr_updated=0.188\n"
     ]
    }
   ],
   "source": [
    "print(f'prob_blockedby_ldr_updated={prob_blockedby_ldr_updated:.3}')"
   ]
  },
  {
   "cell_type": "code",
   "execution_count": 47,
   "id": "44d0acb6-bb9f-400e-ac8d-1c9c6fa14095",
   "metadata": {},
   "outputs": [
    {
     "data": {
      "text/plain": [
       "3.0"
      ]
     },
     "execution_count": 47,
     "metadata": {},
     "output_type": "execute_result"
    }
   ],
   "source": [
    "np.sqrt(9)"
   ]
  },
  {
   "cell_type": "code",
   "execution_count": 48,
   "id": "3e86225d-67ce-4e53-a404-98f1f8eb0432",
   "metadata": {},
   "outputs": [
    {
     "name": "stderr",
     "output_type": "stream",
     "text": [
      "/tmp/ipykernel_44055/2149185541.py:1: RuntimeWarning: invalid value encountered in sqrt\n",
      "  np.sqrt(-9)\n"
     ]
    },
    {
     "data": {
      "text/plain": [
       "nan"
      ]
     },
     "execution_count": 48,
     "metadata": {},
     "output_type": "execute_result"
    }
   ],
   "source": [
    "np.sqrt(-9)"
   ]
  }
 ],
 "metadata": {
  "kernelspec": {
   "display_name": "Python [conda env:analytics]",
   "language": "python",
   "name": "conda-env-analytics-py"
  },
  "language_info": {
   "codemirror_mode": {
    "name": "ipython",
    "version": 3
   },
   "file_extension": ".py",
   "mimetype": "text/x-python",
   "name": "python",
   "nbconvert_exporter": "python",
   "pygments_lexer": "ipython3",
   "version": "3.9.7"
  }
 },
 "nbformat": 4,
 "nbformat_minor": 5
}
