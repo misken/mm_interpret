{
 "cells": [
  {
   "cell_type": "code",
   "execution_count": 2,
   "id": "e725f5ac-21a0-47e2-a9e7-942ffbb103ea",
   "metadata": {},
   "outputs": [],
   "source": [
    "def myfunc(a=0, b=5):\n",
    "    print(f'a = {a}, b = {b}')"
   ]
  },
  {
   "cell_type": "code",
   "execution_count": 3,
   "id": "4536aa99-d9fc-40c6-880b-97e29f49af25",
   "metadata": {},
   "outputs": [
    {
     "name": "stdout",
     "output_type": "stream",
     "text": [
      "a = 0, b = 5\n"
     ]
    }
   ],
   "source": [
    "myfunc()"
   ]
  },
  {
   "cell_type": "code",
   "execution_count": 4,
   "id": "51be2b47-89df-4c67-8e71-15ea7914452e",
   "metadata": {},
   "outputs": [
    {
     "name": "stdout",
     "output_type": "stream",
     "text": [
      "a = 7, b = 10\n"
     ]
    }
   ],
   "source": [
    "myfunc(7, 10)"
   ]
  },
  {
   "cell_type": "code",
   "execution_count": 5,
   "id": "fb58351d-13fc-4891-8ad5-66e494b4c702",
   "metadata": {},
   "outputs": [
    {
     "name": "stdout",
     "output_type": "stream",
     "text": [
      "a = 7, b = None\n"
     ]
    }
   ],
   "source": [
    "myfunc(7, None)"
   ]
  },
  {
   "cell_type": "code",
   "execution_count": 6,
   "id": "ce58cfa9-c7e8-444c-ba6d-bf09549128ca",
   "metadata": {},
   "outputs": [
    {
     "name": "stdout",
     "output_type": "stream",
     "text": [
      "a = 7, b = 5\n"
     ]
    }
   ],
   "source": [
    "myfunc(7)"
   ]
  },
  {
   "cell_type": "code",
   "execution_count": null,
   "id": "d917d643-720f-4cf3-a909-78b907b656b6",
   "metadata": {},
   "outputs": [],
   "source": []
  },
  {
   "cell_type": "code",
   "execution_count": null,
   "id": "e90514c8-a340-4466-96a9-62feac75fea4",
   "metadata": {},
   "outputs": [],
   "source": []
  },
  {
   "cell_type": "code",
   "execution_count": null,
   "id": "50a8287a-cbb6-4460-8a70-6ecdb35eb7dd",
   "metadata": {},
   "outputs": [],
   "source": []
  },
  {
   "cell_type": "code",
   "execution_count": null,
   "id": "705f5b39-94ab-42ee-a581-75b4cb3b3a84",
   "metadata": {},
   "outputs": [],
   "source": []
  }
 ],
 "metadata": {
  "kernelspec": {
   "display_name": "Python [conda env:analytics]",
   "language": "python",
   "name": "conda-env-analytics-py"
  },
  "language_info": {
   "codemirror_mode": {
    "name": "ipython",
    "version": 3
   },
   "file_extension": ".py",
   "mimetype": "text/x-python",
   "name": "python",
   "nbconvert_exporter": "python",
   "pygments_lexer": "ipython3",
   "version": "3.9.7"
  }
 },
 "nbformat": 4,
 "nbformat_minor": 5
}
